{
  "nbformat": 4,
  "nbformat_minor": 0,
  "metadata": {
    "colab": {
      "name": "program 4.ipynb",
      "provenance": [],
      "authorship_tag": "ABX9TyNmckpYYokIO21A1K+s0fXi",
      "include_colab_link": true
    },
    "kernelspec": {
      "name": "python3",
      "display_name": "Python 3"
    },
    "language_info": {
      "name": "python"
    }
  },
  "cells": [
    {
      "cell_type": "markdown",
      "metadata": {
        "id": "view-in-github",
        "colab_type": "text"
      },
      "source": [
        "<a href=\"https://colab.research.google.com/github/saikhairnar20023/Data--science-programs/blob/main/program_4.ipynb\" target=\"_parent\"><img src=\"https://colab.research.google.com/assets/colab-badge.svg\" alt=\"Open In Colab\"/></a>"
      ]
    },
    {
      "cell_type": "markdown",
      "metadata": {
        "id": "eMSlrYPA8c6c"
      },
      "source": [
        "functions with parameters :"
      ]
    },
    {
      "cell_type": "code",
      "metadata": {
        "id": "vgMxrDDi7WXU"
      },
      "source": [
        "def greet_user(name): #Parameter\n",
        "  print(f\"Hi\", name)\n",
        "  print(\"WELCOME ABROAD\")"
      ],
      "execution_count": null,
      "outputs": []
    },
    {
      "cell_type": "code",
      "metadata": {
        "colab": {
          "base_uri": "https://localhost:8080/"
        },
        "id": "aEhXxsTR9IIG",
        "outputId": "2d72f3a6-0b37-4bab-cac2-63f606c62a87"
      },
      "source": [
        "greet_user(\"sai\") #Arguments"
      ],
      "execution_count": null,
      "outputs": [
        {
          "output_type": "stream",
          "text": [
            "Hi sai\n",
            "WELCOME ABROAD\n"
          ],
          "name": "stdout"
        }
      ]
    },
    {
      "cell_type": "code",
      "metadata": {
        "id": "8TASxC7J9LJ4"
      },
      "source": [
        "def greet_user(first ,last): #Parameter\n",
        "  print(f\"Hi {first}  {last} \")\n",
        "  print(\"WELCOME TO JAPAN\")"
      ],
      "execution_count": null,
      "outputs": []
    },
    {
      "cell_type": "code",
      "metadata": {
        "colab": {
          "base_uri": "https://localhost:8080/"
        },
        "id": "yYXtI0py-RUa",
        "outputId": "e319a824-1a63-4f62-9dff-f536f28cfc66"
      },
      "source": [
        "greet_user(\"Sai\" ,\"Khairnar\")"
      ],
      "execution_count": null,
      "outputs": [
        {
          "output_type": "stream",
          "text": [
            "Hi Sai  Khairnar \n",
            "WELCOME TO JAPAN\n"
          ],
          "name": "stdout"
        }
      ]
    },
    {
      "cell_type": "code",
      "metadata": {
        "colab": {
          "base_uri": "https://localhost:8080/"
        },
        "id": "72CtvyMh-Xnc",
        "outputId": "182a8062-ffea-4a9a-8f00-3e1d82636c23"
      },
      "source": [
        "greet_user(last = \"khairnar\", first = \"Sai\")"
      ],
      "execution_count": null,
      "outputs": [
        {
          "output_type": "stream",
          "text": [
            "Hi Sai  khairnar \n",
            "WELCOME TO JAPAN\n"
          ],
          "name": "stdout"
        }
      ]
    },
    {
      "cell_type": "code",
      "metadata": {
        "id": "4_viumoc_a7o"
      },
      "source": [
        "import math"
      ],
      "execution_count": null,
      "outputs": []
    },
    {
      "cell_type": "code",
      "metadata": {
        "colab": {
          "base_uri": "https://localhost:8080/"
        },
        "id": "QxsUCFLuA_Yf",
        "outputId": "79d7f004-9d3a-4bd5-ee1d-cb9f83da2a6a"
      },
      "source": [
        "math.factorial(5)"
      ],
      "execution_count": null,
      "outputs": [
        {
          "output_type": "execute_result",
          "data": {
            "text/plain": [
              "120"
            ]
          },
          "metadata": {
            "tags": []
          },
          "execution_count": 24
        }
      ]
    },
    {
      "cell_type": "code",
      "metadata": {
        "id": "kTIx_zUWteF_"
      },
      "source": [
        "import time"
      ],
      "execution_count": null,
      "outputs": []
    },
    {
      "cell_type": "code",
      "metadata": {
        "colab": {
          "base_uri": "https://localhost:8080/"
        },
        "id": "I301BaxuuDWF",
        "outputId": "4150303b-44b0-4583-de0a-cf38dd0cc761"
      },
      "source": [
        "for i in range(10):\n",
        "  print(i)\n",
        "  time.sleep(1)"
      ],
      "execution_count": 31,
      "outputs": [
        {
          "output_type": "stream",
          "text": [
            "0\n",
            "1\n",
            "2\n",
            "3\n",
            "4\n",
            "5\n",
            "6\n",
            "7\n",
            "8\n",
            "9\n"
          ],
          "name": "stdout"
        }
      ]
    },
    {
      "cell_type": "code",
      "metadata": {
        "id": "qFuzhnnruToE"
      },
      "source": [
        "import random"
      ],
      "execution_count": 32,
      "outputs": []
    },
    {
      "cell_type": "code",
      "metadata": {
        "colab": {
          "base_uri": "https://localhost:8080/"
        },
        "id": "wq_JHJHKvu6l",
        "outputId": "17d9ba9a-e559-48a6-a974-9eded5064209"
      },
      "source": [
        "random.randint()"
      ],
      "execution_count": 33,
      "outputs": [
        {
          "output_type": "execute_result",
          "data": {
            "text/plain": [
              "4"
            ]
          },
          "metadata": {
            "tags": []
          },
          "execution_count": 33
        }
      ]
    },
    {
      "cell_type": "code",
      "metadata": {
        "id": "iCv_nRv_v4Gg"
      },
      "source": [
        "import numpy as np"
      ],
      "execution_count": 38,
      "outputs": []
    },
    {
      "cell_type": "code",
      "metadata": {
        "id": "MSwWs5rS3QM5"
      },
      "source": [
        "a = [1,2,3,4]\n",
        "b = [5,6,7,8]"
      ],
      "execution_count": 37,
      "outputs": []
    },
    {
      "cell_type": "code",
      "metadata": {
        "id": "irb1FuoT3Ycx"
      },
      "source": [
        "c = np.array([1,2,3,4])\n",
        "d = np.array([5,6,7,8])"
      ],
      "execution_count": 39,
      "outputs": []
    },
    {
      "cell_type": "code",
      "metadata": {
        "colab": {
          "base_uri": "https://localhost:8080/"
        },
        "id": "hfLsdaQ54HxH",
        "outputId": "caef7500-a7bb-4067-d16a-939272ea9b72"
      },
      "source": [
        "c"
      ],
      "execution_count": 40,
      "outputs": [
        {
          "output_type": "execute_result",
          "data": {
            "text/plain": [
              "array([1, 2, 3, 4])"
            ]
          },
          "metadata": {
            "tags": []
          },
          "execution_count": 40
        }
      ]
    },
    {
      "cell_type": "code",
      "metadata": {
        "colab": {
          "base_uri": "https://localhost:8080/"
        },
        "id": "K-M1A-sk4Ip6",
        "outputId": "004eb4c8-3e3b-4438-dd95-78799639851d"
      },
      "source": [
        "d"
      ],
      "execution_count": 41,
      "outputs": [
        {
          "output_type": "execute_result",
          "data": {
            "text/plain": [
              "array([5, 6, 7, 8])"
            ]
          },
          "metadata": {
            "tags": []
          },
          "execution_count": 41
        }
      ]
    },
    {
      "cell_type": "code",
      "metadata": {
        "colab": {
          "base_uri": "https://localhost:8080/"
        },
        "id": "LQ2y42qY4M_p",
        "outputId": "6778fb3b-114c-4c26-dce3-53fa8b333c08"
      },
      "source": [
        "c * d"
      ],
      "execution_count": 42,
      "outputs": [
        {
          "output_type": "execute_result",
          "data": {
            "text/plain": [
              "array([ 5, 12, 21, 32])"
            ]
          },
          "metadata": {
            "tags": []
          },
          "execution_count": 42
        }
      ]
    },
    {
      "cell_type": "code",
      "metadata": {
        "id": "8c5LM9uh5Ns5"
      },
      "source": [
        ""
      ],
      "execution_count": null,
      "outputs": []
    }
  ]
}