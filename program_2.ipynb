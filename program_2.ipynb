{
  "nbformat": 4,
  "nbformat_minor": 0,
  "metadata": {
    "colab": {
      "name": "program 2.ipynb",
      "provenance": [],
      "authorship_tag": "ABX9TyPIsInVPwWcEoR1Ab8DC+q1",
      "include_colab_link": true
    },
    "kernelspec": {
      "name": "python3",
      "display_name": "Python 3"
    },
    "language_info": {
      "name": "python"
    }
  },
  "cells": [
    {
      "cell_type": "markdown",
      "metadata": {
        "id": "view-in-github",
        "colab_type": "text"
      },
      "source": [
        "<a href=\"https://colab.research.google.com/github/saikhairnar20023/Data--science-programs/blob/main/program_2.ipynb\" target=\"_parent\"><img src=\"https://colab.research.google.com/assets/colab-badge.svg\" alt=\"Open In Colab\"/></a>"
      ]
    },
    {
      "cell_type": "code",
      "metadata": {
        "id": "rRNfPDg1WquF"
      },
      "source": [
        "course= \"Python for Begineers\""
      ],
      "execution_count": 1,
      "outputs": []
    },
    {
      "cell_type": "code",
      "metadata": {
        "colab": {
          "base_uri": "https://localhost:8080/"
        },
        "id": "ng_6aeXlX8zM",
        "outputId": "1941aef1-b06f-4384-ee43-527c99c0cd35"
      },
      "source": [
        "print(course)"
      ],
      "execution_count": 2,
      "outputs": [
        {
          "output_type": "stream",
          "text": [
            "Python for Begineers\n"
          ],
          "name": "stdout"
        }
      ]
    },
    {
      "cell_type": "code",
      "metadata": {
        "colab": {
          "base_uri": "https://localhost:8080/"
        },
        "id": "IPKwbkHDYAha",
        "outputId": "c11a890e-1c98-4519-c7e4-7acd3dde5745"
      },
      "source": [
        "type(course)"
      ],
      "execution_count": 3,
      "outputs": [
        {
          "output_type": "execute_result",
          "data": {
            "text/plain": [
              "str"
            ]
          },
          "metadata": {
            "tags": []
          },
          "execution_count": 3
        }
      ]
    },
    {
      "cell_type": "code",
      "metadata": {
        "colab": {
          "base_uri": "https://localhost:8080/"
        },
        "id": "HwsgVA0bYFsJ",
        "outputId": "8a34539a-69d6-4378-ef00-e31015918d2c"
      },
      "source": [
        "print(type(course))"
      ],
      "execution_count": 4,
      "outputs": [
        {
          "output_type": "stream",
          "text": [
            "<class 'str'>\n"
          ],
          "name": "stdout"
        }
      ]
    },
    {
      "cell_type": "code",
      "metadata": {
        "colab": {
          "base_uri": "https://localhost:8080/",
          "height": 35
        },
        "id": "CSO_iTddYJbk",
        "outputId": "faaa8036-a848-4196-dd51-2f3e296f4fd7"
      },
      "source": [
        "course.upper()"
      ],
      "execution_count": 6,
      "outputs": [
        {
          "output_type": "execute_result",
          "data": {
            "application/vnd.google.colaboratory.intrinsic+json": {
              "type": "string"
            },
            "text/plain": [
              "'PYTHON FOR BEGINEERS'"
            ]
          },
          "metadata": {
            "tags": []
          },
          "execution_count": 6
        }
      ]
    },
    {
      "cell_type": "code",
      "metadata": {
        "colab": {
          "base_uri": "https://localhost:8080/",
          "height": 35
        },
        "id": "fZ5rNfzWYSzD",
        "outputId": "6fd5bdf9-c31f-4277-96ed-dfabef5be2de"
      },
      "source": [
        "course.lower()"
      ],
      "execution_count": 7,
      "outputs": [
        {
          "output_type": "execute_result",
          "data": {
            "application/vnd.google.colaboratory.intrinsic+json": {
              "type": "string"
            },
            "text/plain": [
              "'python for begineers'"
            ]
          },
          "metadata": {
            "tags": []
          },
          "execution_count": 7
        }
      ]
    },
    {
      "cell_type": "code",
      "metadata": {
        "colab": {
          "base_uri": "https://localhost:8080/",
          "height": 35
        },
        "id": "MiD-ZJCqYYyS",
        "outputId": "336d0994-32b7-44b9-8e57-cc8c4a58f404"
      },
      "source": [
        "course"
      ],
      "execution_count": 8,
      "outputs": [
        {
          "output_type": "execute_result",
          "data": {
            "application/vnd.google.colaboratory.intrinsic+json": {
              "type": "string"
            },
            "text/plain": [
              "'Python for Begineers'"
            ]
          },
          "metadata": {
            "tags": []
          },
          "execution_count": 8
        }
      ]
    },
    {
      "cell_type": "code",
      "metadata": {
        "id": "FdjGm3HbYcYe"
      },
      "source": [
        "num= 24  #int value"
      ],
      "execution_count": 12,
      "outputs": []
    },
    {
      "cell_type": "code",
      "metadata": {
        "colab": {
          "base_uri": "https://localhost:8080/"
        },
        "id": "zZf8nCnOYmEl",
        "outputId": "bcb4d524-ac42-4f4b-e89f-3cca4e0ac82d"
      },
      "source": [
        "type(num)"
      ],
      "execution_count": 13,
      "outputs": [
        {
          "output_type": "execute_result",
          "data": {
            "text/plain": [
              "int"
            ]
          },
          "metadata": {
            "tags": []
          },
          "execution_count": 13
        }
      ]
    },
    {
      "cell_type": "code",
      "metadata": {
        "id": "FWei_PNgY6DC"
      },
      "source": [
        "num1 = 24.6"
      ],
      "execution_count": 14,
      "outputs": []
    },
    {
      "cell_type": "code",
      "metadata": {
        "colab": {
          "base_uri": "https://localhost:8080/"
        },
        "id": "oZZ8c0Y5Y9T0",
        "outputId": "326c8d4b-5d98-442e-9b2c-be8794ed1fe1"
      },
      "source": [
        "type(num1)  #print float value"
      ],
      "execution_count": 18,
      "outputs": [
        {
          "output_type": "execute_result",
          "data": {
            "text/plain": [
              "float"
            ]
          },
          "metadata": {
            "tags": []
          },
          "execution_count": 18
        }
      ]
    },
    {
      "cell_type": "code",
      "metadata": {
        "colab": {
          "base_uri": "https://localhost:8080/"
        },
        "id": "n5fW2XuSY_yB",
        "outputId": "47c4b339-e602-4f75-e26e-3d850a00ebba"
      },
      "source": [
        "num"
      ],
      "execution_count": 16,
      "outputs": [
        {
          "output_type": "execute_result",
          "data": {
            "text/plain": [
              "24"
            ]
          },
          "metadata": {
            "tags": []
          },
          "execution_count": 16
        }
      ]
    },
    {
      "cell_type": "code",
      "metadata": {
        "colab": {
          "base_uri": "https://localhost:8080/"
        },
        "id": "kQ8xz0ywZBn6",
        "outputId": "113a62ca-078d-4a05-8917-0235ccafee8a"
      },
      "source": [
        "num1"
      ],
      "execution_count": 17,
      "outputs": [
        {
          "output_type": "execute_result",
          "data": {
            "text/plain": [
              "24.6"
            ]
          },
          "metadata": {
            "tags": []
          },
          "execution_count": 17
        }
      ]
    },
    {
      "cell_type": "code",
      "metadata": {
        "id": "sSwno4J3ZEOR"
      },
      "source": [
        "num2 = '24' #convert int into str"
      ],
      "execution_count": 21,
      "outputs": []
    },
    {
      "cell_type": "code",
      "metadata": {
        "colab": {
          "base_uri": "https://localhost:8080/"
        },
        "id": "DNIKfuo1ZRQU",
        "outputId": "02ff4517-25ff-4b53-fac6-f9f3593b8fc7"
      },
      "source": [
        "type(num2)"
      ],
      "execution_count": 20,
      "outputs": [
        {
          "output_type": "execute_result",
          "data": {
            "text/plain": [
              "str"
            ]
          },
          "metadata": {
            "tags": []
          },
          "execution_count": 20
        }
      ]
    },
    {
      "cell_type": "code",
      "metadata": {
        "id": "UPvQyz6uZUfR"
      },
      "source": [
        "bool_ = True"
      ],
      "execution_count": 23,
      "outputs": []
    },
    {
      "cell_type": "code",
      "metadata": {
        "colab": {
          "base_uri": "https://localhost:8080/"
        },
        "id": "Ki80PCJjZjVS",
        "outputId": "4435eb90-f73b-45b4-93a7-05f09688b03f"
      },
      "source": [
        "type(bool_)"
      ],
      "execution_count": 25,
      "outputs": [
        {
          "output_type": "execute_result",
          "data": {
            "text/plain": [
              "bool"
            ]
          },
          "metadata": {
            "tags": []
          },
          "execution_count": 25
        }
      ]
    },
    {
      "cell_type": "code",
      "metadata": {
        "id": "_l-kTvnZZtu1"
      },
      "source": [
        "str1 = \"HELLO\"\n",
        "str2 = \"WORLD\""
      ],
      "execution_count": 26,
      "outputs": []
    },
    {
      "cell_type": "code",
      "metadata": {
        "colab": {
          "base_uri": "https://localhost:8080/"
        },
        "id": "RrLBIN5UZ9ja",
        "outputId": "634e350d-0b40-4d76-e69d-7032e2b7cc79"
      },
      "source": [
        "print(str1 + \" \"+ str2)  #concatinate two strings"
      ],
      "execution_count": 31,
      "outputs": [
        {
          "output_type": "stream",
          "text": [
            "HELLO WORLD\n"
          ],
          "name": "stdout"
        }
      ]
    },
    {
      "cell_type": "code",
      "metadata": {
        "colab": {
          "base_uri": "https://localhost:8080/"
        },
        "id": "k7Zghk6RaCDU",
        "outputId": "ca699259-00d5-4184-ff35-60151083362d"
      },
      "source": [
        "print(str1 + \" \" +str(num))  #typecasting two types together (string and integer)"
      ],
      "execution_count": 35,
      "outputs": [
        {
          "output_type": "stream",
          "text": [
            "HELLO 24\n"
          ],
          "name": "stdout"
        }
      ]
    },
    {
      "cell_type": "code",
      "metadata": {
        "colab": {
          "base_uri": "https://localhost:8080/"
        },
        "id": "-SgZRYGFaqG-",
        "outputId": "19fc87de-2315-4e55-dedc-6639bb14ffe6"
      },
      "source": [
        "print(str2 + \" \" +str(bool_))"
      ],
      "execution_count": 40,
      "outputs": [
        {
          "output_type": "stream",
          "text": [
            "WORLD True\n"
          ],
          "name": "stdout"
        }
      ]
    },
    {
      "cell_type": "markdown",
      "metadata": {
        "id": "h8ymzB9LcCN0"
      },
      "source": [
        "user input"
      ]
    },
    {
      "cell_type": "code",
      "metadata": {
        "colab": {
          "base_uri": "https://localhost:8080/"
        },
        "id": "EozmfqkKa5GB",
        "outputId": "29529a3a-e134-473e-8924-126583f53045"
      },
      "source": [
        "name = input(\"please enter your name \\n \")"
      ],
      "execution_count": 44,
      "outputs": [
        {
          "output_type": "stream",
          "text": [
            "please enter your name \n",
            " sai\n"
          ],
          "name": "stdout"
        }
      ]
    },
    {
      "cell_type": "code",
      "metadata": {
        "colab": {
          "base_uri": "https://localhost:8080/",
          "height": 35
        },
        "id": "Uge_NYVBcJEh",
        "outputId": "c322660f-258b-431e-91cc-c511bb997669"
      },
      "source": [
        "name"
      ],
      "execution_count": 45,
      "outputs": [
        {
          "output_type": "execute_result",
          "data": {
            "application/vnd.google.colaboratory.intrinsic+json": {
              "type": "string"
            },
            "text/plain": [
              "'sai'"
            ]
          },
          "metadata": {
            "tags": []
          },
          "execution_count": 45
        }
      ]
    },
    {
      "cell_type": "code",
      "metadata": {
        "colab": {
          "base_uri": "https://localhost:8080/"
        },
        "id": "rLRbM-UYcyS7",
        "outputId": "03aa731c-4bc7-47c4-8db3-ce35d83a0fc0"
      },
      "source": [
        "weight = input(\"please enter your name \\n\")"
      ],
      "execution_count": 48,
      "outputs": [
        {
          "output_type": "stream",
          "text": [
            "please enter your name \n",
            "55\n"
          ],
          "name": "stdout"
        }
      ]
    },
    {
      "cell_type": "code",
      "metadata": {
        "colab": {
          "base_uri": "https://localhost:8080/"
        },
        "id": "M7yzDo9fc2w2",
        "outputId": "3437d18b-f2f7-4768-b887-dc083f7789a2"
      },
      "source": [
        "type(weight)"
      ],
      "execution_count": 49,
      "outputs": [
        {
          "output_type": "execute_result",
          "data": {
            "text/plain": [
              "str"
            ]
          },
          "metadata": {
            "tags": []
          },
          "execution_count": 49
        }
      ]
    },
    {
      "cell_type": "code",
      "metadata": {
        "colab": {
          "base_uri": "https://localhost:8080/"
        },
        "id": "loA6r6HIdHpK",
        "outputId": "570719a2-44ee-492e-f7d0-9df26433bba2"
      },
      "source": [
        "weight = int(input(\"PLEASE ENTER YOUR WEIGHT \\n\"))"
      ],
      "execution_count": 58,
      "outputs": [
        {
          "output_type": "stream",
          "text": [
            "PLEASE ENTER YOUR WEIGHT \n",
            "55\n"
          ],
          "name": "stdout"
        }
      ]
    },
    {
      "cell_type": "code",
      "metadata": {
        "colab": {
          "base_uri": "https://localhost:8080/"
        },
        "id": "WccFGJY3dcIs",
        "outputId": "d0fa1303-074b-4d1b-f6a1-96e409da2ce2"
      },
      "source": [
        "type(weight)"
      ],
      "execution_count": 59,
      "outputs": [
        {
          "output_type": "execute_result",
          "data": {
            "text/plain": [
              "int"
            ]
          },
          "metadata": {
            "tags": []
          },
          "execution_count": 59
        }
      ]
    },
    {
      "cell_type": "markdown",
      "metadata": {
        "id": "C4amnK3khtCw"
      },
      "source": [
        "conditions:"
      ]
    },
    {
      "cell_type": "code",
      "metadata": {
        "colab": {
          "base_uri": "https://localhost:8080/"
        },
        "id": "bvmQpGHbdgtG",
        "outputId": "005547d3-a01e-4f4b-a97a-b8fce3bdefd7"
      },
      "source": [
        "temp = int(input(\"enter the temperature \\n\")) \n",
        "\n",
        "if  temp > 46:\n",
        "  print(\"its hot day\")\n",
        "elif temp < 10:\n",
        "  print(\"its cold day\")\n",
        "else:\n",
        "  print(\"its normal day\")\n",
        "\n",
        "\n",
        "\n"
      ],
      "execution_count": 92,
      "outputs": [
        {
          "output_type": "stream",
          "text": [
            "enter the temperature \n",
            "23\n",
            "its normal day\n"
          ],
          "name": "stdout"
        }
      ]
    },
    {
      "cell_type": "markdown",
      "metadata": {
        "id": "MJr8pSv2oZ0D"
      },
      "source": [
        " example for conditions:"
      ]
    },
    {
      "cell_type": "code",
      "metadata": {
        "colab": {
          "base_uri": "https://localhost:8080/"
        },
        "id": "NK7PxWiNd4qi",
        "outputId": "387bcc8a-2fbf-4c19-a0b7-eab3eab7ddff"
      },
      "source": [
        "good_credit_score = True\n",
        "high_income = True\n",
        "\n",
        "if good_credit_score and high_income:\n",
        "  print(\"eligible for loan\")\n",
        "else:\n",
        "  print(\"not eligible\")"
      ],
      "execution_count": 103,
      "outputs": [
        {
          "output_type": "stream",
          "text": [
            "eligible for loan\n"
          ],
          "name": "stdout"
        }
      ]
    },
    {
      "cell_type": "code",
      "metadata": {
        "id": "w9G6aPtlphBl"
      },
      "source": [
        ""
      ],
      "execution_count": 101,
      "outputs": []
    }
  ]
}