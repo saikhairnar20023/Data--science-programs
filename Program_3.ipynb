{
  "nbformat": 4,
  "nbformat_minor": 0,
  "metadata": {
    "colab": {
      "name": "Program 3.ipynb",
      "provenance": [],
      "collapsed_sections": [],
      "authorship_tag": "ABX9TyM/HPN9hbXykEnkyMM+UZ7s",
      "include_colab_link": true
    },
    "kernelspec": {
      "name": "python3",
      "display_name": "Python 3"
    },
    "language_info": {
      "name": "python"
    }
  },
  "cells": [
    {
      "cell_type": "markdown",
      "metadata": {
        "id": "view-in-github",
        "colab_type": "text"
      },
      "source": [
        "<a href=\"https://colab.research.google.com/github/saikhairnar20023/Data--science-programs/blob/main/Program_3.ipynb\" target=\"_parent\"><img src=\"https://colab.research.google.com/assets/colab-badge.svg\" alt=\"Open In Colab\"/></a>"
      ]
    },
    {
      "cell_type": "markdown",
      "metadata": {
        "id": "6iUj3_Bv3R5g"
      },
      "source": [
        "Loops:"
      ]
    },
    {
      "cell_type": "code",
      "metadata": {
        "id": "_sI_JgqcrEhW",
        "colab": {
          "base_uri": "https://localhost:8080/"
        },
        "outputId": "e61769a8-474a-41f7-f8c5-ec05c74570ff"
      },
      "source": [
        "for number in range(5):\n",
        "  print(number)"
      ],
      "execution_count": 8,
      "outputs": [
        {
          "output_type": "stream",
          "text": [
            "0\n",
            "1\n",
            "2\n",
            "3\n",
            "4\n"
          ],
          "name": "stdout"
        }
      ]
    },
    {
      "cell_type": "code",
      "metadata": {
        "colab": {
          "base_uri": "https://localhost:8080/"
        },
        "id": "fjcgHRr44HK1",
        "outputId": "2191d740-56d4-4416-d884-47e64a63fbe4"
      },
      "source": [
        "for number in range(0,20,2):\n",
        "  print(number )\n",
        "print(\"done\")"
      ],
      "execution_count": null,
      "outputs": [
        {
          "output_type": "stream",
          "text": [
            "0\n",
            "2\n",
            "4\n",
            "6\n",
            "8\n",
            "10\n",
            "12\n",
            "14\n",
            "16\n",
            "18\n",
            "done\n"
          ],
          "name": "stdout"
        }
      ]
    },
    {
      "cell_type": "code",
      "metadata": {
        "colab": {
          "base_uri": "https://localhost:8080/"
        },
        "id": "Nnxf3Ges5OGy",
        "outputId": "a7e09bbb-60a8-4df3-a776-880ed2735e5f"
      },
      "source": [
        "number"
      ],
      "execution_count": null,
      "outputs": [
        {
          "output_type": "execute_result",
          "data": {
            "text/plain": [
              "18"
            ]
          },
          "metadata": {
            "tags": []
          },
          "execution_count": 8
        }
      ]
    },
    {
      "cell_type": "code",
      "metadata": {
        "colab": {
          "base_uri": "https://localhost:8080/"
        },
        "id": "uF8yF_yc5f2d",
        "outputId": "47483b42-b1d9-4546-acaa-8bd92db39190"
      },
      "source": [
        "for number in range(5):\n",
        "  print(\"interation\",number)\n"
      ],
      "execution_count": null,
      "outputs": [
        {
          "output_type": "stream",
          "text": [
            "interation 0\n",
            "interation 1\n",
            "interation 2\n",
            "interation 3\n",
            "interation 4\n"
          ],
          "name": "stdout"
        }
      ]
    },
    {
      "cell_type": "code",
      "metadata": {
        "colab": {
          "base_uri": "https://localhost:8080/"
        },
        "id": "K2MSiR6w7Mx1",
        "outputId": "29063282-03a4-4bbf-cd93-de3013c9f1de"
      },
      "source": [
        "i = 1\n",
        "while i <= 5:\n",
        "  print(\"*\" * i)\n",
        "  i += 1 # i = i + 1 - Augmented\n",
        "print (\"done\")"
      ],
      "execution_count": null,
      "outputs": [
        {
          "output_type": "stream",
          "text": [
            "*\n",
            "**\n",
            "***\n",
            "****\n",
            "*****\n",
            "done\n"
          ],
          "name": "stdout"
        }
      ]
    },
    {
      "cell_type": "code",
      "metadata": {
        "id": "Y3CroFA98pau"
      },
      "source": [
        "list1 = [1 , 10,20,30,40]"
      ],
      "execution_count": null,
      "outputs": []
    },
    {
      "cell_type": "code",
      "metadata": {
        "colab": {
          "base_uri": "https://localhost:8080/"
        },
        "id": "YhXdlc1RCVxP",
        "outputId": "9fff95c5-11d7-4e67-e2d3-a849fd144409"
      },
      "source": [
        "list1"
      ],
      "execution_count": null,
      "outputs": [
        {
          "output_type": "execute_result",
          "data": {
            "text/plain": [
              "[1, 10, 20, 30, 40]"
            ]
          },
          "metadata": {
            "tags": []
          },
          "execution_count": 14
        }
      ]
    },
    {
      "cell_type": "code",
      "metadata": {
        "colab": {
          "base_uri": "https://localhost:8080/"
        },
        "id": "PogfdfqYCW8r",
        "outputId": "03fa431f-b8fe-4ec7-e6a2-deef00333841"
      },
      "source": [
        "type(list1)"
      ],
      "execution_count": null,
      "outputs": [
        {
          "output_type": "execute_result",
          "data": {
            "text/plain": [
              "list"
            ]
          },
          "metadata": {
            "tags": []
          },
          "execution_count": 15
        }
      ]
    },
    {
      "cell_type": "code",
      "metadata": {
        "id": "-XrKhg7sCZED"
      },
      "source": [
        "list2 = [10,20,30,40,50,\"abcd\",\"edfg\"]"
      ],
      "execution_count": null,
      "outputs": []
    },
    {
      "cell_type": "code",
      "metadata": {
        "colab": {
          "base_uri": "https://localhost:8080/"
        },
        "id": "MJOMmpI1Cy9l",
        "outputId": "f0f65ae5-6f41-4b79-aa55-af513977a876"
      },
      "source": [
        "list2"
      ],
      "execution_count": null,
      "outputs": [
        {
          "output_type": "execute_result",
          "data": {
            "text/plain": [
              "[10, 20, 30, 40, 50, 'abcd', 'edfg']"
            ]
          },
          "metadata": {
            "tags": []
          },
          "execution_count": 19
        }
      ]
    },
    {
      "cell_type": "code",
      "metadata": {
        "colab": {
          "base_uri": "https://localhost:8080/"
        },
        "id": "pip6D6GcC0b2",
        "outputId": "7561b542-440a-474e-d285-1838bf6173c3"
      },
      "source": [
        "type(list2)"
      ],
      "execution_count": null,
      "outputs": [
        {
          "output_type": "execute_result",
          "data": {
            "text/plain": [
              "list"
            ]
          },
          "metadata": {
            "tags": []
          },
          "execution_count": 20
        }
      ]
    },
    {
      "cell_type": "code",
      "metadata": {
        "id": "I255fhPnDB05"
      },
      "source": [
        "list3 = list1 + list2"
      ],
      "execution_count": null,
      "outputs": []
    },
    {
      "cell_type": "code",
      "metadata": {
        "colab": {
          "base_uri": "https://localhost:8080/"
        },
        "id": "GnVVUsPcDS38",
        "outputId": "778649ef-ce0a-4c6a-c836-24484890b127"
      },
      "source": [
        "list3"
      ],
      "execution_count": null,
      "outputs": [
        {
          "output_type": "execute_result",
          "data": {
            "text/plain": [
              "[1, 10, 20, 30, 40, 10, 20, 30, 40, 50, 'abcd', 'edfg']"
            ]
          },
          "metadata": {
            "tags": []
          },
          "execution_count": 23
        }
      ]
    },
    {
      "cell_type": "code",
      "metadata": {
        "colab": {
          "base_uri": "https://localhost:8080/"
        },
        "id": "9BM4DXcdDhNt",
        "outputId": "0202b80d-ebab-4cb5-af6e-0c53b1dd2f95"
      },
      "source": [
        "list(range(10))"
      ],
      "execution_count": null,
      "outputs": [
        {
          "output_type": "execute_result",
          "data": {
            "text/plain": [
              "[0, 1, 2, 3, 4, 5, 6, 7, 8, 9]"
            ]
          },
          "metadata": {
            "tags": []
          },
          "execution_count": 24
        }
      ]
    },
    {
      "cell_type": "code",
      "metadata": {
        "id": "FWsYajVoDmSw"
      },
      "source": [
        "list5 = [2, 18, 24, 56, 67, 4,34]"
      ],
      "execution_count": null,
      "outputs": []
    },
    {
      "cell_type": "code",
      "metadata": {
        "id": "Iu9dnIFxEOJ3"
      },
      "source": [
        "list5.sort()"
      ],
      "execution_count": null,
      "outputs": []
    },
    {
      "cell_type": "code",
      "metadata": {
        "colab": {
          "base_uri": "https://localhost:8080/"
        },
        "id": "OS9qObbWEWr6",
        "outputId": "6d83e910-75a0-49af-8805-33df3fc9f924"
      },
      "source": [
        "list5"
      ],
      "execution_count": null,
      "outputs": [
        {
          "output_type": "execute_result",
          "data": {
            "text/plain": [
              "[2, 4, 18, 24, 34, 56, 67]"
            ]
          },
          "metadata": {
            "tags": []
          },
          "execution_count": 30
        }
      ]
    },
    {
      "cell_type": "code",
      "metadata": {
        "id": "jvBqR92oEYuq"
      },
      "source": [
        "list5.sort(reverse = True)"
      ],
      "execution_count": null,
      "outputs": []
    },
    {
      "cell_type": "code",
      "metadata": {
        "colab": {
          "base_uri": "https://localhost:8080/"
        },
        "id": "WZFIRfWfEoj9",
        "outputId": "51a2be33-aab9-48e3-f7d1-58c0914dc777"
      },
      "source": [
        "list5"
      ],
      "execution_count": null,
      "outputs": [
        {
          "output_type": "execute_result",
          "data": {
            "text/plain": [
              "[67, 56, 34, 24, 18, 4, 2]"
            ]
          },
          "metadata": {
            "tags": []
          },
          "execution_count": 32
        }
      ]
    },
    {
      "cell_type": "code",
      "metadata": {
        "id": "_yIsxhitEprp"
      },
      "source": [
        "list5.append(20)"
      ],
      "execution_count": null,
      "outputs": []
    },
    {
      "cell_type": "code",
      "metadata": {
        "colab": {
          "base_uri": "https://localhost:8080/"
        },
        "id": "i0RxkAl_FYRR",
        "outputId": "335d9022-15cd-4beb-c597-b657c38d4acf"
      },
      "source": [
        "list5"
      ],
      "execution_count": null,
      "outputs": [
        {
          "output_type": "execute_result",
          "data": {
            "text/plain": [
              "[67, 56, 34, 24, 18, 4, 2, 20]"
            ]
          },
          "metadata": {
            "tags": []
          },
          "execution_count": 34
        }
      ]
    },
    {
      "cell_type": "code",
      "metadata": {
        "colab": {
          "base_uri": "https://localhost:8080/"
        },
        "id": "7KBzgC86FaSv",
        "outputId": "e6f63760-665a-4299-f67a-798457d339a5"
      },
      "source": [
        "list5.pop()"
      ],
      "execution_count": null,
      "outputs": [
        {
          "output_type": "execute_result",
          "data": {
            "text/plain": [
              "20"
            ]
          },
          "metadata": {
            "tags": []
          },
          "execution_count": 36
        }
      ]
    },
    {
      "cell_type": "code",
      "metadata": {
        "colab": {
          "base_uri": "https://localhost:8080/"
        },
        "id": "Hb_EeDPxFsIs",
        "outputId": "e05064aa-390b-47b9-ad9d-e9e98156ef45"
      },
      "source": [
        "list5"
      ],
      "execution_count": null,
      "outputs": [
        {
          "output_type": "execute_result",
          "data": {
            "text/plain": [
              "[67, 56, 34, 24, 18, 4, 2]"
            ]
          },
          "metadata": {
            "tags": []
          },
          "execution_count": 37
        }
      ]
    },
    {
      "cell_type": "code",
      "metadata": {
        "id": "Lt9kP5NPFv89"
      },
      "source": [
        "list5.insert(3,15)"
      ],
      "execution_count": null,
      "outputs": []
    },
    {
      "cell_type": "code",
      "metadata": {
        "colab": {
          "base_uri": "https://localhost:8080/"
        },
        "id": "VgjcVq4jF7Ro",
        "outputId": "16180439-97b5-4a30-b0ad-799d8dd58f3f"
      },
      "source": [
        "list5"
      ],
      "execution_count": null,
      "outputs": [
        {
          "output_type": "execute_result",
          "data": {
            "text/plain": [
              "[67, 56, 34, 15, 24, 18, 4, 2]"
            ]
          },
          "metadata": {
            "tags": []
          },
          "execution_count": 39
        }
      ]
    },
    {
      "cell_type": "code",
      "metadata": {
        "colab": {
          "base_uri": "https://localhost:8080/"
        },
        "id": "ZO-4eALNHFCz",
        "outputId": "dc08b1e5-540b-46f0-e074-2431eb0000cc"
      },
      "source": [
        "list5[2]"
      ],
      "execution_count": null,
      "outputs": [
        {
          "output_type": "execute_result",
          "data": {
            "text/plain": [
              "15"
            ]
          },
          "metadata": {
            "tags": []
          },
          "execution_count": 48
        }
      ]
    },
    {
      "cell_type": "code",
      "metadata": {
        "id": "syaY0L3CHNgG"
      },
      "source": [
        "list5[2] = 20"
      ],
      "execution_count": null,
      "outputs": []
    },
    {
      "cell_type": "code",
      "metadata": {
        "colab": {
          "base_uri": "https://localhost:8080/"
        },
        "id": "8EBCosn8HWOf",
        "outputId": "1fd23a42-9ef1-442a-87ea-df54a98d3de4"
      },
      "source": [
        "list5"
      ],
      "execution_count": null,
      "outputs": [
        {
          "output_type": "execute_result",
          "data": {
            "text/plain": [
              "[56, 34, 20, 24, 18, 4, 2]"
            ]
          },
          "metadata": {
            "tags": []
          },
          "execution_count": 50
        }
      ]
    },
    {
      "cell_type": "code",
      "metadata": {
        "id": "Gg0B4whtF8ro"
      },
      "source": [
        "list5.remove(67)"
      ],
      "execution_count": null,
      "outputs": []
    },
    {
      "cell_type": "code",
      "metadata": {
        "colab": {
          "base_uri": "https://localhost:8080/"
        },
        "id": "2q0mDcpUGKUB",
        "outputId": "65f8ed34-907f-4d19-fddf-6e2725e4e4a5"
      },
      "source": [
        "list5"
      ],
      "execution_count": null,
      "outputs": [
        {
          "output_type": "execute_result",
          "data": {
            "text/plain": [
              "[56, 34, 15, 24, 18, 4, 2]"
            ]
          },
          "metadata": {
            "tags": []
          },
          "execution_count": 45
        }
      ]
    },
    {
      "cell_type": "code",
      "metadata": {
        "id": "VLAhAI2TGabn"
      },
      "source": [
        "list6 = list(\"HELLO WORLD\")"
      ],
      "execution_count": null,
      "outputs": []
    },
    {
      "cell_type": "code",
      "metadata": {
        "colab": {
          "base_uri": "https://localhost:8080/"
        },
        "id": "2-pscGN6Ggq8",
        "outputId": "004a2c71-ccea-4005-edf4-4ebab6792c43"
      },
      "source": [
        "list6"
      ],
      "execution_count": null,
      "outputs": [
        {
          "output_type": "execute_result",
          "data": {
            "text/plain": [
              "['H', 'E', 'L', 'L', 'O', ' ', 'W', 'O', 'R', 'L', 'D']"
            ]
          },
          "metadata": {
            "tags": []
          },
          "execution_count": 47
        }
      ]
    },
    {
      "cell_type": "code",
      "metadata": {
        "id": "rzNtBB2ZGjFL"
      },
      "source": [
        "point = (1,2,3,4,5)"
      ],
      "execution_count": 10,
      "outputs": []
    },
    {
      "cell_type": "code",
      "metadata": {
        "colab": {
          "base_uri": "https://localhost:8080/"
        },
        "id": "pmJGBy8WHasT",
        "outputId": "2651efd7-8747-4076-fbfd-c3b2fe7bc914"
      },
      "source": [
        "type(point)"
      ],
      "execution_count": 11,
      "outputs": [
        {
          "output_type": "execute_result",
          "data": {
            "text/plain": [
              "tuple"
            ]
          },
          "metadata": {
            "tags": []
          },
          "execution_count": 11
        }
      ]
    },
    {
      "cell_type": "code",
      "metadata": {
        "id": "M-q3uUeFsYpt",
        "colab": {
          "base_uri": "https://localhost:8080/"
        },
        "outputId": "7ccd39a2-b384-4623-9e80-9a65f1a659d4"
      },
      "source": [
        "point[2]"
      ],
      "execution_count": 12,
      "outputs": [
        {
          "output_type": "execute_result",
          "data": {
            "text/plain": [
              "3"
            ]
          },
          "metadata": {
            "tags": []
          },
          "execution_count": 12
        }
      ]
    },
    {
      "cell_type": "code",
      "metadata": {
        "id": "BkLzvA1kzK38"
      },
      "source": [
        "dict1 ={\"x\" : 1,\n",
        "        \"y\" : 2}"
      ],
      "execution_count": 14,
      "outputs": []
    },
    {
      "cell_type": "code",
      "metadata": {
        "colab": {
          "base_uri": "https://localhost:8080/"
        },
        "id": "NaCaG_RZztgD",
        "outputId": "48159658-7426-41d7-fbc5-8424019f38cf"
      },
      "source": [
        "type(dict1)"
      ],
      "execution_count": 15,
      "outputs": [
        {
          "output_type": "execute_result",
          "data": {
            "text/plain": [
              "dict"
            ]
          },
          "metadata": {
            "tags": []
          },
          "execution_count": 15
        }
      ]
    },
    {
      "cell_type": "code",
      "metadata": {
        "colab": {
          "base_uri": "https://localhost:8080/"
        },
        "id": "9RcqwYhGz73W",
        "outputId": "33625d18-1460-489b-c7c8-720201a4d563"
      },
      "source": [
        "dict1"
      ],
      "execution_count": 16,
      "outputs": [
        {
          "output_type": "execute_result",
          "data": {
            "text/plain": [
              "{'x': 1, 'y': 2}"
            ]
          },
          "metadata": {
            "tags": []
          },
          "execution_count": 16
        }
      ]
    },
    {
      "cell_type": "code",
      "metadata": {
        "colab": {
          "base_uri": "https://localhost:8080/"
        },
        "id": "qwAC5N-Nz-IG",
        "outputId": "752349e3-5465-45a8-d293-248ef422e8d6"
      },
      "source": [
        "dict1.keys()"
      ],
      "execution_count": 17,
      "outputs": [
        {
          "output_type": "execute_result",
          "data": {
            "text/plain": [
              "dict_keys(['x', 'y'])"
            ]
          },
          "metadata": {
            "tags": []
          },
          "execution_count": 17
        }
      ]
    },
    {
      "cell_type": "code",
      "metadata": {
        "colab": {
          "base_uri": "https://localhost:8080/"
        },
        "id": "m7gn8fiB0FhS",
        "outputId": "d8796d30-8f79-44e5-b46b-c5666c1be686"
      },
      "source": [
        "dict1.values()"
      ],
      "execution_count": 18,
      "outputs": [
        {
          "output_type": "execute_result",
          "data": {
            "text/plain": [
              "dict_values([1, 2])"
            ]
          },
          "metadata": {
            "tags": []
          },
          "execution_count": 18
        }
      ]
    },
    {
      "cell_type": "code",
      "metadata": {
        "id": "WzA2PSTm0JwT"
      },
      "source": [
        "dict1 = {\"x\" : 1,\n",
        "         \"y\" : 2,\n",
        "         \"z\" : 1,}"
      ],
      "execution_count": 21,
      "outputs": []
    },
    {
      "cell_type": "code",
      "metadata": {
        "colab": {
          "base_uri": "https://localhost:8080/"
        },
        "id": "oH3emLpY0jhv",
        "outputId": "ebe39c3a-527b-485b-b55b-0c9fd05d1f58"
      },
      "source": [
        "dict1"
      ],
      "execution_count": 22,
      "outputs": [
        {
          "output_type": "execute_result",
          "data": {
            "text/plain": [
              "{'x': 1, 'y': 2, 'z': 1}"
            ]
          },
          "metadata": {
            "tags": []
          },
          "execution_count": 22
        }
      ]
    },
    {
      "cell_type": "code",
      "metadata": {
        "id": "V_yAvs4U0k1y"
      },
      "source": [
        "dict1 = {\"x\" : [1,2,3,4,5],\n",
        "         \"y\" : 7,\n",
        "         \"z\" : 1,}"
      ],
      "execution_count": 26,
      "outputs": []
    },
    {
      "cell_type": "code",
      "metadata": {
        "colab": {
          "base_uri": "https://localhost:8080/"
        },
        "id": "dyCj7Dhp02bY",
        "outputId": "46266a91-084d-4c76-ca62-3b4a7ba0e9c9"
      },
      "source": [
        "dict1"
      ],
      "execution_count": 27,
      "outputs": [
        {
          "output_type": "execute_result",
          "data": {
            "text/plain": [
              "{'x': [1, 2, 3, 4, 5], 'y': 7, 'z': 1}"
            ]
          },
          "metadata": {
            "tags": []
          },
          "execution_count": 27
        }
      ]
    },
    {
      "cell_type": "code",
      "metadata": {
        "id": "DgVRTIer1CZD"
      },
      "source": [
        "dict1[\"a\"] = [23, 25]"
      ],
      "execution_count": 28,
      "outputs": []
    },
    {
      "cell_type": "code",
      "metadata": {
        "colab": {
          "base_uri": "https://localhost:8080/"
        },
        "id": "Qj6QRpne1VPL",
        "outputId": "657c0392-6387-4b90-9394-8584d3f18eae"
      },
      "source": [
        "dict1"
      ],
      "execution_count": 29,
      "outputs": [
        {
          "output_type": "execute_result",
          "data": {
            "text/plain": [
              "{'a': [23, 25], 'x': [1, 2, 3, 4, 5], 'y': 7, 'z': 1}"
            ]
          },
          "metadata": {
            "tags": []
          },
          "execution_count": 29
        }
      ]
    },
    {
      "cell_type": "markdown",
      "metadata": {
        "id": "pHirY60t1Z0e"
      },
      "source": [
        "FUNCTIONS:"
      ]
    },
    {
      "cell_type": "code",
      "metadata": {
        "id": "wjTOJG5s1WrI"
      },
      "source": [
        "def greet_user():\n",
        "  print(\"Hi there....\")\n",
        "  print(\"welcome\")"
      ],
      "execution_count": 30,
      "outputs": []
    },
    {
      "cell_type": "code",
      "metadata": {
        "colab": {
          "base_uri": "https://localhost:8080/"
        },
        "id": "yt7aLRrR2xAf",
        "outputId": "797cecf3-1400-453b-b987-bf4383a5b484"
      },
      "source": [
        "greet_user()"
      ],
      "execution_count": 32,
      "outputs": [
        {
          "output_type": "stream",
          "text": [
            "Hi there....\n",
            "welcome\n"
          ],
          "name": "stdout"
        }
      ]
    },
    {
      "cell_type": "code",
      "metadata": {
        "colab": {
          "base_uri": "https://localhost:8080/"
        },
        "id": "KSYjlcRp22Fa",
        "outputId": "de385882-c8db-48d0-8f12-5d162a8ecaf1"
      },
      "source": [
        "print(\"start\")\n",
        "greet_user()\n",
        "print(\"end\")"
      ],
      "execution_count": 33,
      "outputs": [
        {
          "output_type": "stream",
          "text": [
            "start\n",
            "Hi there....\n",
            "welcome\n",
            "end\n"
          ],
          "name": "stdout"
        }
      ]
    },
    {
      "cell_type": "code",
      "metadata": {
        "id": "RfQGujkX3I1n"
      },
      "source": [
        ""
      ],
      "execution_count": null,
      "outputs": []
    }
  ]
}