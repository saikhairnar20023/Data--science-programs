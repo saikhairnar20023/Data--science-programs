{
  "nbformat": 4,
  "nbformat_minor": 0,
  "metadata": {
    "colab": {
      "name": "SVC_Iris2.ipynb",
      "provenance": [],
      "authorship_tag": "ABX9TyOUf795+yXscfEpMB6Ade7Q",
      "include_colab_link": true
    },
    "kernelspec": {
      "name": "python3",
      "display_name": "Python 3"
    },
    "language_info": {
      "name": "python"
    }
  },
  "cells": [
    {
      "cell_type": "markdown",
      "metadata": {
        "id": "view-in-github",
        "colab_type": "text"
      },
      "source": [
        "<a href=\"https://colab.research.google.com/github/saikhairnar20023/Data--science-programs/blob/main/SVC_Iris2.ipynb\" target=\"_parent\"><img src=\"https://colab.research.google.com/assets/colab-badge.svg\" alt=\"Open In Colab\"/></a>"
      ]
    },
    {
      "cell_type": "code",
      "metadata": {
        "id": "xUIAhkvE2keI"
      },
      "source": [
        "import pandas as pd"
      ],
      "execution_count": 1,
      "outputs": []
    },
    {
      "cell_type": "code",
      "metadata": {
        "id": "_dnGnd8x8ag5"
      },
      "source": [
        "df = pd.read_csv(\"/content/Iris.csv\")"
      ],
      "execution_count": 2,
      "outputs": []
    },
    {
      "cell_type": "code",
      "metadata": {
        "colab": {
          "base_uri": "https://localhost:8080/",
          "height": 419
        },
        "id": "jcUZVGAq8imf",
        "outputId": "c87306ce-9c36-4e9e-e943-cce35f6b6ada"
      },
      "source": [
        "df"
      ],
      "execution_count": 3,
      "outputs": [
        {
          "output_type": "execute_result",
          "data": {
            "text/html": [
              "<div>\n",
              "<style scoped>\n",
              "    .dataframe tbody tr th:only-of-type {\n",
              "        vertical-align: middle;\n",
              "    }\n",
              "\n",
              "    .dataframe tbody tr th {\n",
              "        vertical-align: top;\n",
              "    }\n",
              "\n",
              "    .dataframe thead th {\n",
              "        text-align: right;\n",
              "    }\n",
              "</style>\n",
              "<table border=\"1\" class=\"dataframe\">\n",
              "  <thead>\n",
              "    <tr style=\"text-align: right;\">\n",
              "      <th></th>\n",
              "      <th>Id</th>\n",
              "      <th>SepalLengthCm</th>\n",
              "      <th>SepalWidthCm</th>\n",
              "      <th>PetalLengthCm</th>\n",
              "      <th>PetalWidthCm</th>\n",
              "      <th>Species</th>\n",
              "    </tr>\n",
              "  </thead>\n",
              "  <tbody>\n",
              "    <tr>\n",
              "      <th>0</th>\n",
              "      <td>1</td>\n",
              "      <td>5.1</td>\n",
              "      <td>3.5</td>\n",
              "      <td>1.4</td>\n",
              "      <td>0.2</td>\n",
              "      <td>Iris-setosa</td>\n",
              "    </tr>\n",
              "    <tr>\n",
              "      <th>1</th>\n",
              "      <td>2</td>\n",
              "      <td>4.9</td>\n",
              "      <td>3.0</td>\n",
              "      <td>1.4</td>\n",
              "      <td>0.2</td>\n",
              "      <td>Iris-setosa</td>\n",
              "    </tr>\n",
              "    <tr>\n",
              "      <th>2</th>\n",
              "      <td>3</td>\n",
              "      <td>4.7</td>\n",
              "      <td>3.2</td>\n",
              "      <td>1.3</td>\n",
              "      <td>0.2</td>\n",
              "      <td>Iris-setosa</td>\n",
              "    </tr>\n",
              "    <tr>\n",
              "      <th>3</th>\n",
              "      <td>4</td>\n",
              "      <td>4.6</td>\n",
              "      <td>3.1</td>\n",
              "      <td>1.5</td>\n",
              "      <td>0.2</td>\n",
              "      <td>Iris-setosa</td>\n",
              "    </tr>\n",
              "    <tr>\n",
              "      <th>4</th>\n",
              "      <td>5</td>\n",
              "      <td>5.0</td>\n",
              "      <td>3.6</td>\n",
              "      <td>1.4</td>\n",
              "      <td>0.2</td>\n",
              "      <td>Iris-setosa</td>\n",
              "    </tr>\n",
              "    <tr>\n",
              "      <th>...</th>\n",
              "      <td>...</td>\n",
              "      <td>...</td>\n",
              "      <td>...</td>\n",
              "      <td>...</td>\n",
              "      <td>...</td>\n",
              "      <td>...</td>\n",
              "    </tr>\n",
              "    <tr>\n",
              "      <th>145</th>\n",
              "      <td>146</td>\n",
              "      <td>6.7</td>\n",
              "      <td>3.0</td>\n",
              "      <td>5.2</td>\n",
              "      <td>2.3</td>\n",
              "      <td>Iris-virginica</td>\n",
              "    </tr>\n",
              "    <tr>\n",
              "      <th>146</th>\n",
              "      <td>147</td>\n",
              "      <td>6.3</td>\n",
              "      <td>2.5</td>\n",
              "      <td>5.0</td>\n",
              "      <td>1.9</td>\n",
              "      <td>Iris-virginica</td>\n",
              "    </tr>\n",
              "    <tr>\n",
              "      <th>147</th>\n",
              "      <td>148</td>\n",
              "      <td>6.5</td>\n",
              "      <td>3.0</td>\n",
              "      <td>5.2</td>\n",
              "      <td>2.0</td>\n",
              "      <td>Iris-virginica</td>\n",
              "    </tr>\n",
              "    <tr>\n",
              "      <th>148</th>\n",
              "      <td>149</td>\n",
              "      <td>6.2</td>\n",
              "      <td>3.4</td>\n",
              "      <td>5.4</td>\n",
              "      <td>2.3</td>\n",
              "      <td>Iris-virginica</td>\n",
              "    </tr>\n",
              "    <tr>\n",
              "      <th>149</th>\n",
              "      <td>150</td>\n",
              "      <td>5.9</td>\n",
              "      <td>3.0</td>\n",
              "      <td>5.1</td>\n",
              "      <td>1.8</td>\n",
              "      <td>Iris-virginica</td>\n",
              "    </tr>\n",
              "  </tbody>\n",
              "</table>\n",
              "<p>150 rows × 6 columns</p>\n",
              "</div>"
            ],
            "text/plain": [
              "      Id  SepalLengthCm  ...  PetalWidthCm         Species\n",
              "0      1            5.1  ...           0.2     Iris-setosa\n",
              "1      2            4.9  ...           0.2     Iris-setosa\n",
              "2      3            4.7  ...           0.2     Iris-setosa\n",
              "3      4            4.6  ...           0.2     Iris-setosa\n",
              "4      5            5.0  ...           0.2     Iris-setosa\n",
              "..   ...            ...  ...           ...             ...\n",
              "145  146            6.7  ...           2.3  Iris-virginica\n",
              "146  147            6.3  ...           1.9  Iris-virginica\n",
              "147  148            6.5  ...           2.0  Iris-virginica\n",
              "148  149            6.2  ...           2.3  Iris-virginica\n",
              "149  150            5.9  ...           1.8  Iris-virginica\n",
              "\n",
              "[150 rows x 6 columns]"
            ]
          },
          "metadata": {
            "tags": []
          },
          "execution_count": 3
        }
      ]
    },
    {
      "cell_type": "code",
      "metadata": {
        "id": "cQWAQQAn8jMQ"
      },
      "source": [
        "x =df.iloc[:,: -1]\n",
        "y= df.iloc[:,-1].values"
      ],
      "execution_count": 48,
      "outputs": []
    },
    {
      "cell_type": "code",
      "metadata": {
        "colab": {
          "base_uri": "https://localhost:8080/",
          "height": 419
        },
        "id": "jpKDOA-c8-Ia",
        "outputId": "15b8ae05-b2d5-47ed-b8b7-499fbc72f0be"
      },
      "source": [
        "x"
      ],
      "execution_count": 49,
      "outputs": [
        {
          "output_type": "execute_result",
          "data": {
            "text/html": [
              "<div>\n",
              "<style scoped>\n",
              "    .dataframe tbody tr th:only-of-type {\n",
              "        vertical-align: middle;\n",
              "    }\n",
              "\n",
              "    .dataframe tbody tr th {\n",
              "        vertical-align: top;\n",
              "    }\n",
              "\n",
              "    .dataframe thead th {\n",
              "        text-align: right;\n",
              "    }\n",
              "</style>\n",
              "<table border=\"1\" class=\"dataframe\">\n",
              "  <thead>\n",
              "    <tr style=\"text-align: right;\">\n",
              "      <th></th>\n",
              "      <th>Id</th>\n",
              "      <th>SepalLengthCm</th>\n",
              "      <th>SepalWidthCm</th>\n",
              "      <th>PetalLengthCm</th>\n",
              "      <th>PetalWidthCm</th>\n",
              "    </tr>\n",
              "  </thead>\n",
              "  <tbody>\n",
              "    <tr>\n",
              "      <th>0</th>\n",
              "      <td>1</td>\n",
              "      <td>5.1</td>\n",
              "      <td>3.5</td>\n",
              "      <td>1.4</td>\n",
              "      <td>0.2</td>\n",
              "    </tr>\n",
              "    <tr>\n",
              "      <th>1</th>\n",
              "      <td>2</td>\n",
              "      <td>4.9</td>\n",
              "      <td>3.0</td>\n",
              "      <td>1.4</td>\n",
              "      <td>0.2</td>\n",
              "    </tr>\n",
              "    <tr>\n",
              "      <th>2</th>\n",
              "      <td>3</td>\n",
              "      <td>4.7</td>\n",
              "      <td>3.2</td>\n",
              "      <td>1.3</td>\n",
              "      <td>0.2</td>\n",
              "    </tr>\n",
              "    <tr>\n",
              "      <th>3</th>\n",
              "      <td>4</td>\n",
              "      <td>4.6</td>\n",
              "      <td>3.1</td>\n",
              "      <td>1.5</td>\n",
              "      <td>0.2</td>\n",
              "    </tr>\n",
              "    <tr>\n",
              "      <th>4</th>\n",
              "      <td>5</td>\n",
              "      <td>5.0</td>\n",
              "      <td>3.6</td>\n",
              "      <td>1.4</td>\n",
              "      <td>0.2</td>\n",
              "    </tr>\n",
              "    <tr>\n",
              "      <th>...</th>\n",
              "      <td>...</td>\n",
              "      <td>...</td>\n",
              "      <td>...</td>\n",
              "      <td>...</td>\n",
              "      <td>...</td>\n",
              "    </tr>\n",
              "    <tr>\n",
              "      <th>145</th>\n",
              "      <td>146</td>\n",
              "      <td>6.7</td>\n",
              "      <td>3.0</td>\n",
              "      <td>5.2</td>\n",
              "      <td>2.3</td>\n",
              "    </tr>\n",
              "    <tr>\n",
              "      <th>146</th>\n",
              "      <td>147</td>\n",
              "      <td>6.3</td>\n",
              "      <td>2.5</td>\n",
              "      <td>5.0</td>\n",
              "      <td>1.9</td>\n",
              "    </tr>\n",
              "    <tr>\n",
              "      <th>147</th>\n",
              "      <td>148</td>\n",
              "      <td>6.5</td>\n",
              "      <td>3.0</td>\n",
              "      <td>5.2</td>\n",
              "      <td>2.0</td>\n",
              "    </tr>\n",
              "    <tr>\n",
              "      <th>148</th>\n",
              "      <td>149</td>\n",
              "      <td>6.2</td>\n",
              "      <td>3.4</td>\n",
              "      <td>5.4</td>\n",
              "      <td>2.3</td>\n",
              "    </tr>\n",
              "    <tr>\n",
              "      <th>149</th>\n",
              "      <td>150</td>\n",
              "      <td>5.9</td>\n",
              "      <td>3.0</td>\n",
              "      <td>5.1</td>\n",
              "      <td>1.8</td>\n",
              "    </tr>\n",
              "  </tbody>\n",
              "</table>\n",
              "<p>150 rows × 5 columns</p>\n",
              "</div>"
            ],
            "text/plain": [
              "      Id  SepalLengthCm  SepalWidthCm  PetalLengthCm  PetalWidthCm\n",
              "0      1            5.1           3.5            1.4           0.2\n",
              "1      2            4.9           3.0            1.4           0.2\n",
              "2      3            4.7           3.2            1.3           0.2\n",
              "3      4            4.6           3.1            1.5           0.2\n",
              "4      5            5.0           3.6            1.4           0.2\n",
              "..   ...            ...           ...            ...           ...\n",
              "145  146            6.7           3.0            5.2           2.3\n",
              "146  147            6.3           2.5            5.0           1.9\n",
              "147  148            6.5           3.0            5.2           2.0\n",
              "148  149            6.2           3.4            5.4           2.3\n",
              "149  150            5.9           3.0            5.1           1.8\n",
              "\n",
              "[150 rows x 5 columns]"
            ]
          },
          "metadata": {
            "tags": []
          },
          "execution_count": 49
        }
      ]
    },
    {
      "cell_type": "code",
      "metadata": {
        "colab": {
          "base_uri": "https://localhost:8080/"
        },
        "id": "qOR42vWq9j_T",
        "outputId": "a80a8503-a1b4-4ad5-cd1d-ed303b4075eb"
      },
      "source": [
        "y"
      ],
      "execution_count": 14,
      "outputs": [
        {
          "output_type": "execute_result",
          "data": {
            "text/plain": [
              "array(['Iris-setosa', 'Iris-setosa', 'Iris-setosa', 'Iris-setosa',\n",
              "       'Iris-setosa', 'Iris-setosa', 'Iris-setosa', 'Iris-setosa',\n",
              "       'Iris-setosa', 'Iris-setosa', 'Iris-setosa', 'Iris-setosa',\n",
              "       'Iris-setosa', 'Iris-setosa', 'Iris-setosa', 'Iris-setosa',\n",
              "       'Iris-setosa', 'Iris-setosa', 'Iris-setosa', 'Iris-setosa',\n",
              "       'Iris-setosa', 'Iris-setosa', 'Iris-setosa', 'Iris-setosa',\n",
              "       'Iris-setosa', 'Iris-setosa', 'Iris-setosa', 'Iris-setosa',\n",
              "       'Iris-setosa', 'Iris-setosa', 'Iris-setosa', 'Iris-setosa',\n",
              "       'Iris-setosa', 'Iris-setosa', 'Iris-setosa', 'Iris-setosa',\n",
              "       'Iris-setosa', 'Iris-setosa', 'Iris-setosa', 'Iris-setosa',\n",
              "       'Iris-setosa', 'Iris-setosa', 'Iris-setosa', 'Iris-setosa',\n",
              "       'Iris-setosa', 'Iris-setosa', 'Iris-setosa', 'Iris-setosa',\n",
              "       'Iris-setosa', 'Iris-setosa', 'Iris-versicolor', 'Iris-versicolor',\n",
              "       'Iris-versicolor', 'Iris-versicolor', 'Iris-versicolor',\n",
              "       'Iris-versicolor', 'Iris-versicolor', 'Iris-versicolor',\n",
              "       'Iris-versicolor', 'Iris-versicolor', 'Iris-versicolor',\n",
              "       'Iris-versicolor', 'Iris-versicolor', 'Iris-versicolor',\n",
              "       'Iris-versicolor', 'Iris-versicolor', 'Iris-versicolor',\n",
              "       'Iris-versicolor', 'Iris-versicolor', 'Iris-versicolor',\n",
              "       'Iris-versicolor', 'Iris-versicolor', 'Iris-versicolor',\n",
              "       'Iris-versicolor', 'Iris-versicolor', 'Iris-versicolor',\n",
              "       'Iris-versicolor', 'Iris-versicolor', 'Iris-versicolor',\n",
              "       'Iris-versicolor', 'Iris-versicolor', 'Iris-versicolor',\n",
              "       'Iris-versicolor', 'Iris-versicolor', 'Iris-versicolor',\n",
              "       'Iris-versicolor', 'Iris-versicolor', 'Iris-versicolor',\n",
              "       'Iris-versicolor', 'Iris-versicolor', 'Iris-versicolor',\n",
              "       'Iris-versicolor', 'Iris-versicolor', 'Iris-versicolor',\n",
              "       'Iris-versicolor', 'Iris-versicolor', 'Iris-versicolor',\n",
              "       'Iris-versicolor', 'Iris-versicolor', 'Iris-versicolor',\n",
              "       'Iris-virginica', 'Iris-virginica', 'Iris-virginica',\n",
              "       'Iris-virginica', 'Iris-virginica', 'Iris-virginica',\n",
              "       'Iris-virginica', 'Iris-virginica', 'Iris-virginica',\n",
              "       'Iris-virginica', 'Iris-virginica', 'Iris-virginica',\n",
              "       'Iris-virginica', 'Iris-virginica', 'Iris-virginica',\n",
              "       'Iris-virginica', 'Iris-virginica', 'Iris-virginica',\n",
              "       'Iris-virginica', 'Iris-virginica', 'Iris-virginica',\n",
              "       'Iris-virginica', 'Iris-virginica', 'Iris-virginica',\n",
              "       'Iris-virginica', 'Iris-virginica', 'Iris-virginica',\n",
              "       'Iris-virginica', 'Iris-virginica', 'Iris-virginica',\n",
              "       'Iris-virginica', 'Iris-virginica', 'Iris-virginica',\n",
              "       'Iris-virginica', 'Iris-virginica', 'Iris-virginica',\n",
              "       'Iris-virginica', 'Iris-virginica', 'Iris-virginica',\n",
              "       'Iris-virginica', 'Iris-virginica', 'Iris-virginica',\n",
              "       'Iris-virginica', 'Iris-virginica', 'Iris-virginica',\n",
              "       'Iris-virginica', 'Iris-virginica', 'Iris-virginica',\n",
              "       'Iris-virginica', 'Iris-virginica'], dtype=object)"
            ]
          },
          "metadata": {
            "tags": []
          },
          "execution_count": 14
        }
      ]
    },
    {
      "cell_type": "code",
      "metadata": {
        "id": "5RxUnwwM9naZ"
      },
      "source": [
        "from sklearn.model_selection import train_test_split"
      ],
      "execution_count": 50,
      "outputs": []
    },
    {
      "cell_type": "code",
      "metadata": {
        "id": "4eOjCzcRAOeu"
      },
      "source": [
        "x_train,x_test,y_train,y_test =train_test_split(x,y,test_size = 0.2,random_state=0)"
      ],
      "execution_count": 55,
      "outputs": []
    },
    {
      "cell_type": "code",
      "metadata": {
        "colab": {
          "base_uri": "https://localhost:8080/",
          "height": 979
        },
        "id": "fWhj0bbWAcQ-",
        "outputId": "39ca00de-ba87-48c0-b146-1b91483863f1"
      },
      "source": [
        "x_test"
      ],
      "execution_count": 56,
      "outputs": [
        {
          "output_type": "execute_result",
          "data": {
            "text/html": [
              "<div>\n",
              "<style scoped>\n",
              "    .dataframe tbody tr th:only-of-type {\n",
              "        vertical-align: middle;\n",
              "    }\n",
              "\n",
              "    .dataframe tbody tr th {\n",
              "        vertical-align: top;\n",
              "    }\n",
              "\n",
              "    .dataframe thead th {\n",
              "        text-align: right;\n",
              "    }\n",
              "</style>\n",
              "<table border=\"1\" class=\"dataframe\">\n",
              "  <thead>\n",
              "    <tr style=\"text-align: right;\">\n",
              "      <th></th>\n",
              "      <th>Id</th>\n",
              "      <th>SepalLengthCm</th>\n",
              "      <th>SepalWidthCm</th>\n",
              "      <th>PetalLengthCm</th>\n",
              "      <th>PetalWidthCm</th>\n",
              "    </tr>\n",
              "  </thead>\n",
              "  <tbody>\n",
              "    <tr>\n",
              "      <th>114</th>\n",
              "      <td>115</td>\n",
              "      <td>5.8</td>\n",
              "      <td>2.8</td>\n",
              "      <td>5.1</td>\n",
              "      <td>2.4</td>\n",
              "    </tr>\n",
              "    <tr>\n",
              "      <th>62</th>\n",
              "      <td>63</td>\n",
              "      <td>6.0</td>\n",
              "      <td>2.2</td>\n",
              "      <td>4.0</td>\n",
              "      <td>1.0</td>\n",
              "    </tr>\n",
              "    <tr>\n",
              "      <th>33</th>\n",
              "      <td>34</td>\n",
              "      <td>5.5</td>\n",
              "      <td>4.2</td>\n",
              "      <td>1.4</td>\n",
              "      <td>0.2</td>\n",
              "    </tr>\n",
              "    <tr>\n",
              "      <th>107</th>\n",
              "      <td>108</td>\n",
              "      <td>7.3</td>\n",
              "      <td>2.9</td>\n",
              "      <td>6.3</td>\n",
              "      <td>1.8</td>\n",
              "    </tr>\n",
              "    <tr>\n",
              "      <th>7</th>\n",
              "      <td>8</td>\n",
              "      <td>5.0</td>\n",
              "      <td>3.4</td>\n",
              "      <td>1.5</td>\n",
              "      <td>0.2</td>\n",
              "    </tr>\n",
              "    <tr>\n",
              "      <th>100</th>\n",
              "      <td>101</td>\n",
              "      <td>6.3</td>\n",
              "      <td>3.3</td>\n",
              "      <td>6.0</td>\n",
              "      <td>2.5</td>\n",
              "    </tr>\n",
              "    <tr>\n",
              "      <th>40</th>\n",
              "      <td>41</td>\n",
              "      <td>5.0</td>\n",
              "      <td>3.5</td>\n",
              "      <td>1.3</td>\n",
              "      <td>0.3</td>\n",
              "    </tr>\n",
              "    <tr>\n",
              "      <th>86</th>\n",
              "      <td>87</td>\n",
              "      <td>6.7</td>\n",
              "      <td>3.1</td>\n",
              "      <td>4.7</td>\n",
              "      <td>1.5</td>\n",
              "    </tr>\n",
              "    <tr>\n",
              "      <th>76</th>\n",
              "      <td>77</td>\n",
              "      <td>6.8</td>\n",
              "      <td>2.8</td>\n",
              "      <td>4.8</td>\n",
              "      <td>1.4</td>\n",
              "    </tr>\n",
              "    <tr>\n",
              "      <th>71</th>\n",
              "      <td>72</td>\n",
              "      <td>6.1</td>\n",
              "      <td>2.8</td>\n",
              "      <td>4.0</td>\n",
              "      <td>1.3</td>\n",
              "    </tr>\n",
              "    <tr>\n",
              "      <th>134</th>\n",
              "      <td>135</td>\n",
              "      <td>6.1</td>\n",
              "      <td>2.6</td>\n",
              "      <td>5.6</td>\n",
              "      <td>1.4</td>\n",
              "    </tr>\n",
              "    <tr>\n",
              "      <th>51</th>\n",
              "      <td>52</td>\n",
              "      <td>6.4</td>\n",
              "      <td>3.2</td>\n",
              "      <td>4.5</td>\n",
              "      <td>1.5</td>\n",
              "    </tr>\n",
              "    <tr>\n",
              "      <th>73</th>\n",
              "      <td>74</td>\n",
              "      <td>6.1</td>\n",
              "      <td>2.8</td>\n",
              "      <td>4.7</td>\n",
              "      <td>1.2</td>\n",
              "    </tr>\n",
              "    <tr>\n",
              "      <th>54</th>\n",
              "      <td>55</td>\n",
              "      <td>6.5</td>\n",
              "      <td>2.8</td>\n",
              "      <td>4.6</td>\n",
              "      <td>1.5</td>\n",
              "    </tr>\n",
              "    <tr>\n",
              "      <th>63</th>\n",
              "      <td>64</td>\n",
              "      <td>6.1</td>\n",
              "      <td>2.9</td>\n",
              "      <td>4.7</td>\n",
              "      <td>1.4</td>\n",
              "    </tr>\n",
              "    <tr>\n",
              "      <th>37</th>\n",
              "      <td>38</td>\n",
              "      <td>4.9</td>\n",
              "      <td>3.1</td>\n",
              "      <td>1.5</td>\n",
              "      <td>0.1</td>\n",
              "    </tr>\n",
              "    <tr>\n",
              "      <th>78</th>\n",
              "      <td>79</td>\n",
              "      <td>6.0</td>\n",
              "      <td>2.9</td>\n",
              "      <td>4.5</td>\n",
              "      <td>1.5</td>\n",
              "    </tr>\n",
              "    <tr>\n",
              "      <th>90</th>\n",
              "      <td>91</td>\n",
              "      <td>5.5</td>\n",
              "      <td>2.6</td>\n",
              "      <td>4.4</td>\n",
              "      <td>1.2</td>\n",
              "    </tr>\n",
              "    <tr>\n",
              "      <th>45</th>\n",
              "      <td>46</td>\n",
              "      <td>4.8</td>\n",
              "      <td>3.0</td>\n",
              "      <td>1.4</td>\n",
              "      <td>0.3</td>\n",
              "    </tr>\n",
              "    <tr>\n",
              "      <th>16</th>\n",
              "      <td>17</td>\n",
              "      <td>5.4</td>\n",
              "      <td>3.9</td>\n",
              "      <td>1.3</td>\n",
              "      <td>0.4</td>\n",
              "    </tr>\n",
              "    <tr>\n",
              "      <th>121</th>\n",
              "      <td>122</td>\n",
              "      <td>5.6</td>\n",
              "      <td>2.8</td>\n",
              "      <td>4.9</td>\n",
              "      <td>2.0</td>\n",
              "    </tr>\n",
              "    <tr>\n",
              "      <th>66</th>\n",
              "      <td>67</td>\n",
              "      <td>5.6</td>\n",
              "      <td>3.0</td>\n",
              "      <td>4.5</td>\n",
              "      <td>1.5</td>\n",
              "    </tr>\n",
              "    <tr>\n",
              "      <th>24</th>\n",
              "      <td>25</td>\n",
              "      <td>4.8</td>\n",
              "      <td>3.4</td>\n",
              "      <td>1.9</td>\n",
              "      <td>0.2</td>\n",
              "    </tr>\n",
              "    <tr>\n",
              "      <th>8</th>\n",
              "      <td>9</td>\n",
              "      <td>4.4</td>\n",
              "      <td>2.9</td>\n",
              "      <td>1.4</td>\n",
              "      <td>0.2</td>\n",
              "    </tr>\n",
              "    <tr>\n",
              "      <th>126</th>\n",
              "      <td>127</td>\n",
              "      <td>6.2</td>\n",
              "      <td>2.8</td>\n",
              "      <td>4.8</td>\n",
              "      <td>1.8</td>\n",
              "    </tr>\n",
              "    <tr>\n",
              "      <th>22</th>\n",
              "      <td>23</td>\n",
              "      <td>4.6</td>\n",
              "      <td>3.6</td>\n",
              "      <td>1.0</td>\n",
              "      <td>0.2</td>\n",
              "    </tr>\n",
              "    <tr>\n",
              "      <th>44</th>\n",
              "      <td>45</td>\n",
              "      <td>5.1</td>\n",
              "      <td>3.8</td>\n",
              "      <td>1.9</td>\n",
              "      <td>0.4</td>\n",
              "    </tr>\n",
              "    <tr>\n",
              "      <th>97</th>\n",
              "      <td>98</td>\n",
              "      <td>6.2</td>\n",
              "      <td>2.9</td>\n",
              "      <td>4.3</td>\n",
              "      <td>1.3</td>\n",
              "    </tr>\n",
              "    <tr>\n",
              "      <th>93</th>\n",
              "      <td>94</td>\n",
              "      <td>5.0</td>\n",
              "      <td>2.3</td>\n",
              "      <td>3.3</td>\n",
              "      <td>1.0</td>\n",
              "    </tr>\n",
              "    <tr>\n",
              "      <th>26</th>\n",
              "      <td>27</td>\n",
              "      <td>5.0</td>\n",
              "      <td>3.4</td>\n",
              "      <td>1.6</td>\n",
              "      <td>0.4</td>\n",
              "    </tr>\n",
              "  </tbody>\n",
              "</table>\n",
              "</div>"
            ],
            "text/plain": [
              "      Id  SepalLengthCm  SepalWidthCm  PetalLengthCm  PetalWidthCm\n",
              "114  115            5.8           2.8            5.1           2.4\n",
              "62    63            6.0           2.2            4.0           1.0\n",
              "33    34            5.5           4.2            1.4           0.2\n",
              "107  108            7.3           2.9            6.3           1.8\n",
              "7      8            5.0           3.4            1.5           0.2\n",
              "100  101            6.3           3.3            6.0           2.5\n",
              "40    41            5.0           3.5            1.3           0.3\n",
              "86    87            6.7           3.1            4.7           1.5\n",
              "76    77            6.8           2.8            4.8           1.4\n",
              "71    72            6.1           2.8            4.0           1.3\n",
              "134  135            6.1           2.6            5.6           1.4\n",
              "51    52            6.4           3.2            4.5           1.5\n",
              "73    74            6.1           2.8            4.7           1.2\n",
              "54    55            6.5           2.8            4.6           1.5\n",
              "63    64            6.1           2.9            4.7           1.4\n",
              "37    38            4.9           3.1            1.5           0.1\n",
              "78    79            6.0           2.9            4.5           1.5\n",
              "90    91            5.5           2.6            4.4           1.2\n",
              "45    46            4.8           3.0            1.4           0.3\n",
              "16    17            5.4           3.9            1.3           0.4\n",
              "121  122            5.6           2.8            4.9           2.0\n",
              "66    67            5.6           3.0            4.5           1.5\n",
              "24    25            4.8           3.4            1.9           0.2\n",
              "8      9            4.4           2.9            1.4           0.2\n",
              "126  127            6.2           2.8            4.8           1.8\n",
              "22    23            4.6           3.6            1.0           0.2\n",
              "44    45            5.1           3.8            1.9           0.4\n",
              "97    98            6.2           2.9            4.3           1.3\n",
              "93    94            5.0           2.3            3.3           1.0\n",
              "26    27            5.0           3.4            1.6           0.4"
            ]
          },
          "metadata": {
            "tags": []
          },
          "execution_count": 56
        }
      ]
    },
    {
      "cell_type": "code",
      "metadata": {
        "id": "zFxvB5quBAAu"
      },
      "source": [
        "from sklearn.preprocessing import StandardScaler"
      ],
      "execution_count": 57,
      "outputs": []
    },
    {
      "cell_type": "code",
      "metadata": {
        "id": "yVZJkyUIBTHT"
      },
      "source": [
        "sc = StandardScaler()"
      ],
      "execution_count": 58,
      "outputs": []
    },
    {
      "cell_type": "code",
      "metadata": {
        "id": "gNqxDBajBW4m"
      },
      "source": [
        "x_train = sc.fit_transform(x_train)\n",
        "x_test =sc.fit_transform(x_test)"
      ],
      "execution_count": 59,
      "outputs": []
    },
    {
      "cell_type": "code",
      "metadata": {
        "colab": {
          "base_uri": "https://localhost:8080/"
        },
        "id": "mZQqDtbCBnf-",
        "outputId": "4f32b5ef-e402-4bf9-cb02-1dc34b0d8de4"
      },
      "source": [
        "x_train"
      ],
      "execution_count": 60,
      "outputs": [
        {
          "output_type": "execute_result",
          "data": {
            "text/plain": [
              "array([[ 1.34636602,  0.61303014,  0.10850105,  0.94751783,  0.73603967],\n",
              "       [ 0.16184701, -0.56776627, -0.12400121,  0.38491447,  0.34808318],\n",
              "       [-1.11206965, -0.80392556,  1.03851009, -1.30289562, -1.3330616 ],\n",
              "       [ 1.12287187,  0.25879121, -0.12400121,  0.60995581,  0.73603967],\n",
              "       [ 1.23461894,  0.61303014, -0.58900572,  1.00377816,  1.25331499],\n",
              "       [-0.39688836, -0.80392556, -0.82150798,  0.04735245,  0.21876435],\n",
              "       [-1.31321439, -0.21352735,  1.73601687, -1.19037495, -1.20374277],\n",
              "       [ 0.1394976 ,  0.14071157, -0.82150798,  0.72247648,  0.47740201],\n",
              "       [-0.35218953,  0.02263193, -0.12400121,  0.21613346,  0.34808318],\n",
              "       [ 0.34064234, -0.09544771, -1.05401024,  0.10361279, -0.03987331],\n",
              "       [ 0.78763064,  1.0853487 , -0.12400121,  0.94751783,  1.12399616],\n",
              "       [-1.67080503, -1.39432376,  0.34100331, -1.41541629, -1.3330616 ],\n",
              "       [ 1.43576368,  1.20342834,  0.10850105,  0.72247648,  1.38263382],\n",
              "       [-0.75447901, -1.04008484,  1.03851009, -1.24663528, -0.81578628],\n",
              "       [-1.49200971, -0.56776627,  1.50351461, -1.30289562, -1.3330616 ],\n",
              "       [-0.37453895, -1.04008484, -2.4490238 , -0.1776889 , -0.29851096],\n",
              "       [ 0.8770283 ,  0.73110978, -0.12400121,  0.94751783,  0.73603967],\n",
              "       [ 1.50281193,  0.96726906,  0.57350557,  1.0600385 ,  1.64127148],\n",
              "       [ 0.94407655,  0.14071157, -1.98401928,  0.66621615,  0.34808318],\n",
              "       [ 0.69823298,  0.96726906, -1.2865125 ,  1.11629884,  0.73603967],\n",
              "       [-0.17339421, -0.33160699, -1.2865125 ,  0.04735245, -0.16919214],\n",
              "       [ 1.30166719,  2.14806547, -0.12400121,  1.28507985,  1.38263382],\n",
              "       [-0.46393661,  0.49495049,  0.57350557,  0.49743514,  0.47740201],\n",
              "       [ 0.07244935, -0.44968663, -1.51901476, -0.00890789, -0.16919214],\n",
              "       [ 1.03347421,  0.49495049, -0.82150798,  0.60995581,  0.73603967],\n",
              "       [ 1.25696836,  0.49495049, -0.58900572,  0.72247648,  0.34808318],\n",
              "       [ 0.65353415, -1.15816448, -1.2865125 ,  0.38491447,  0.60672084],\n",
              "       [ 1.54751076,  0.49495049, -1.2865125 ,  0.66621615,  0.8653585 ],\n",
              "       [-0.5980331 ,  1.32150798,  0.34100331,  0.49743514,  0.21876435],\n",
              "       [ 1.56986017,  0.73110978, -0.12400121,  0.77873682,  0.99467733],\n",
              "       [ 0.18419643,  0.14071157,  0.80600783,  0.38491447,  0.47740201],\n",
              "       [-1.0450214 , -1.27624412,  0.10850105, -1.24663528, -1.3330616 ],\n",
              "       [ 0.54178707, -0.09544771, -0.82150798,  0.72247648,  0.8653585 ],\n",
              "       [ 0.38534117, -0.33160699, -0.82150798,  0.21613346,  0.08944552],\n",
              "       [-0.28514129, -0.33160699, -0.35650346, -0.12142856,  0.08944552],\n",
              "       [ 0.27359409, -0.44968663, -1.2865125 ,  0.10361279,  0.08944552],\n",
              "       [ 0.31829292,  0.25879121, -0.12400121,  0.4411748 ,  0.21876435],\n",
              "       [ 1.07817304,  1.55766726,  0.34100331,  1.22881951,  0.73603967],\n",
              "       [-0.64273193, -0.68584591,  1.50351461, -1.30289562, -1.3330616 ],\n",
              "       [-1.42496146, -1.86664232, -0.12400121, -1.52793696, -1.46238043],\n",
              "       [ 0.76528122,  0.61303014, -0.82150798,  0.83499716,  0.8653585 ],\n",
              "       [ 0.40769058, -0.21352735, -0.12400121,  0.21613346, -0.03987331],\n",
              "       [-1.26851556, -0.56776627,  0.80600783, -1.19037495, -1.3330616 ],\n",
              "       [-1.38026263, -0.21352735,  3.13103043, -1.30289562, -1.07442394],\n",
              "       [-0.55333427,  1.20342834,  0.10850105,  0.60995581,  0.34808318],\n",
              "       [-1.64845561, -1.5124034 ,  0.10850105, -1.30289562, -1.3330616 ],\n",
              "       [ 1.614559  ,  0.02263193, -0.12400121,  0.72247648,  0.73603967],\n",
              "       [ 0.47473883, -0.9220052 , -1.2865125 , -0.45899058, -0.16919214],\n",
              "       [-1.58140737, -1.5124034 ,  0.80600783, -1.35915595, -1.20374277],\n",
              "       [-0.19574363,  0.37687085, -1.98401928,  0.38491447,  0.34808318],\n",
              "       [ 0.72058239,  1.55766726,  1.27101235,  1.28507985,  1.64127148],\n",
              "       [ 0.43004   , -0.21352735, -0.35650346,  0.21613346,  0.08944552],\n",
              "       [-1.44731088, -1.27624412, -0.12400121, -1.35915595, -1.46238043],\n",
              "       [ 0.56413649,  1.43958762, -0.12400121,  1.17255917,  1.12399616],\n",
              "       [ 0.96642596,  1.20342834,  0.34100331,  1.0600385 ,  1.38263382],\n",
              "       [ 0.60883532,  0.73110978, -0.12400121,  1.11629884,  1.25331499],\n",
              "       [ 1.14522128,  0.61303014, -0.58900572,  1.00377816,  1.12399616],\n",
              "       [-0.68743076, -0.9220052 ,  1.73601687, -1.24663528, -1.3330616 ],\n",
              "       [-1.46966029, -1.27624412,  0.80600783, -1.24663528, -1.3330616 ],\n",
              "       [ 0.74293181,  0.73110978,  0.34100331,  0.72247648,  0.99467733],\n",
              "       [ 1.05582362,  0.96726906,  0.57350557,  1.0600385 ,  1.12399616],\n",
              "       [-0.79917784, -1.63048304, -1.75151702, -1.41541629, -1.20374277],\n",
              "       [ 1.59220959,  0.37687085,  0.80600783,  0.89125749,  1.38263382],\n",
              "       [-1.69315444, -1.15816448, -0.12400121, -1.35915595, -1.3330616 ],\n",
              "       [ 0.80998005, -0.21352735, -1.2865125 ,  0.66621615,  0.99467733],\n",
              "       [ 1.39106485,  1.20342834,  0.10850105,  0.89125749,  1.12399616],\n",
              "       [-0.77682842, -1.74856268,  0.34100331, -1.41541629, -1.3330616 ],\n",
              "       [-1.6261062 , -1.04008484,  1.27101235, -1.35915595, -1.3330616 ],\n",
              "       [ 1.1675707 ,  1.55766726, -0.12400121,  1.11629884,  0.47740201],\n",
              "       [-1.3355638 , -0.9220052 ,  1.03851009, -1.35915595, -1.20374277],\n",
              "       [-0.86622608, -1.74856268, -0.12400121, -1.41541629, -1.3330616 ],\n",
              "       [-1.60375678, -0.56776627,  1.96851913, -1.19037495, -1.07442394],\n",
              "       [-0.53098486, -0.44968663, -1.75151702,  0.10361279,  0.08944552],\n",
              "       [ 1.48046251,  1.0853487 ,  0.34100331,  1.17255917,  1.38263382],\n",
              "       [ 0.63118473,  2.02998583, -0.12400121,  1.56638153,  1.12399616],\n",
              "       [-1.71550386, -0.9220052 ,  1.03851009, -1.35915595, -1.3330616 ],\n",
              "       [-0.95562374, -1.15816448,  0.10850105, -1.30289562, -1.46238043],\n",
              "       [-1.08972023, -0.80392556,  0.80600783, -1.35915595, -1.3330616 ],\n",
              "       [-0.48628603, -0.21352735, -0.58900572,  0.38491447,  0.08944552],\n",
              "       [-0.03929772,  0.84918942, -0.12400121,  0.32865413,  0.21876435],\n",
              "       [-0.93327433, -1.04008484,  0.34100331, -1.47167663, -1.3330616 ],\n",
              "       [-1.20146731, -0.9220052 ,  0.57350557, -1.19037495, -0.94510511],\n",
              "       [-0.06164714,  0.61303014, -0.35650346,  0.27239379,  0.08944552],\n",
              "       [-1.02267199, -0.56776627,  0.80600783, -1.30289562, -1.07442394],\n",
              "       [ 0.92172713,  2.14806547, -1.05401024,  1.73516253,  1.38263382],\n",
              "       [-0.44158719, -1.15816448, -1.51901476, -0.29020957, -0.29851096],\n",
              "       [ 1.21226953,  2.38422475,  1.73601687,  1.45386085,  0.99467733],\n",
              "       [-0.26279187,  0.96726906,  0.10850105,  0.32865413,  0.21876435],\n",
              "       [-1.00032257, -0.80392556,  2.43352365, -1.30289562, -1.46238043],\n",
              "       [ 1.36871543,  0.14071157, -0.12400121,  0.55369548,  0.73603967],\n",
              "       [-1.40261205, -0.09544771,  2.20102139, -1.47167663, -1.3330616 ],\n",
              "       [ 1.01112479,  2.14806547, -0.58900572,  1.62264186,  0.99467733],\n",
              "       [-1.29086497, -0.9220052 ,  1.73601687, -1.30289562, -1.20374277],\n",
              "       [-1.06737082, -1.39432376,  0.34100331, -1.24663528, -1.3330616 ],\n",
              "       [ 1.18992011,  1.79382654, -0.58900572,  1.28507985,  0.8653585 ],\n",
              "       [-0.62038252, -1.04008484,  0.57350557, -1.35915595, -1.3330616 ],\n",
              "       [ 1.3240166 ,  0.49495049,  0.80600783,  1.00377816,  1.51195265],\n",
              "       [ 0.49708824, -0.21352735, -0.58900572,  0.15987312,  0.08944552],\n",
              "       [ 0.11714818, -0.09544771, -0.82150798,  0.04735245, -0.03987331],\n",
              "       [ 0.05009994, -0.21352735, -1.05401024, -0.1776889 , -0.29851096],\n",
              "       [ 0.85467889,  0.61303014,  0.34100331,  0.83499716,  1.38263382],\n",
              "       [ 1.52516134,  0.96726906, -0.12400121,  0.77873682,  1.38263382],\n",
              "       [-0.10634597,  0.49495049, -1.2865125 ,  0.60995581,  0.34808318],\n",
              "       [ 0.00540111,  0.96726906, -0.12400121,  0.66621615,  0.60672084],\n",
              "       [-1.15676848, -1.04008484, -0.12400121, -1.24663528, -1.3330616 ],\n",
              "       [ 0.09479877, -0.44968663, -1.51901476, -0.06516822, -0.29851096],\n",
              "       [ 1.41341426,  0.96726906,  0.10850105,  1.00377816,  1.51195265],\n",
              "       [ 1.45811309, -0.09544771, -0.82150798,  0.72247648,  0.8653585 ],\n",
              "       [-0.84387667, -0.9220052 ,  0.80600783, -1.30289562, -1.3330616 ],\n",
              "       [-0.41923778,  0.84918942, -0.35650346,  0.4411748 ,  0.08944552],\n",
              "       [ 0.25124468, -0.33160699, -0.12400121,  0.15987312,  0.08944552],\n",
              "       [-0.1510448 ,  0.02263193,  0.34100331,  0.55369548,  0.73603967],\n",
              "       [ 0.22889526,  0.49495049, -1.75151702,  0.32865413,  0.08944552],\n",
              "       [-0.91092491, -0.44968663,  1.03851009, -1.41541629, -1.3330616 ],\n",
              "       [-1.24616614, -0.9220052 ,  1.50351461, -1.30289562, -1.07442394],\n",
              "       [-1.51435912, -1.15816448,  0.10850105, -1.30289562, -1.46238043],\n",
              "       [ 0.5864859 ,  0.49495049, -0.35650346,  1.00377816,  0.73603967],\n",
              "       [-0.21809304, -0.09544771, -0.82150798,  0.15987312, -0.29851096],\n",
              "       [ 0.89937772,  2.14806547,  1.73601687,  1.62264186,  1.25331499],\n",
              "       [-0.66508135, -1.5124034 ,  0.34100331, -1.35915595, -1.3330616 ]])"
            ]
          },
          "metadata": {
            "tags": []
          },
          "execution_count": 60
        }
      ]
    },
    {
      "cell_type": "code",
      "metadata": {
        "id": "82yyjxI1BpbY"
      },
      "source": [
        "from sklearn.svm import SVC"
      ],
      "execution_count": 62,
      "outputs": []
    },
    {
      "cell_type": "code",
      "metadata": {
        "id": "DCfqUJiYB0oe"
      },
      "source": [
        "svc = SVC(kernel=\"rbf\",random_state=0)"
      ],
      "execution_count": 63,
      "outputs": []
    },
    {
      "cell_type": "code",
      "metadata": {
        "colab": {
          "base_uri": "https://localhost:8080/"
        },
        "id": "Y8nUWq2eCUmy",
        "outputId": "37bd9caf-7e69-4b1a-8903-0629029189a9"
      },
      "source": [
        "svc.fit(x_train,y_train)"
      ],
      "execution_count": 64,
      "outputs": [
        {
          "output_type": "execute_result",
          "data": {
            "text/plain": [
              "SVC(C=1.0, break_ties=False, cache_size=200, class_weight=None, coef0=0.0,\n",
              "    decision_function_shape='ovr', degree=3, gamma='scale', kernel='rbf',\n",
              "    max_iter=-1, probability=False, random_state=0, shrinking=True, tol=0.001,\n",
              "    verbose=False)"
            ]
          },
          "metadata": {
            "tags": []
          },
          "execution_count": 64
        }
      ]
    },
    {
      "cell_type": "code",
      "metadata": {
        "id": "lFHxZgACCdeK"
      },
      "source": [
        "pred_y=svc.predict(x_test)"
      ],
      "execution_count": 65,
      "outputs": []
    },
    {
      "cell_type": "code",
      "metadata": {
        "colab": {
          "base_uri": "https://localhost:8080/"
        },
        "id": "Yc36ngQ7CmNv",
        "outputId": "f0439b21-e60f-429c-9653-f08a15fd640d"
      },
      "source": [
        "pred_y"
      ],
      "execution_count": 66,
      "outputs": [
        {
          "output_type": "execute_result",
          "data": {
            "text/plain": [
              "array(['Iris-virginica', 'Iris-versicolor', 'Iris-setosa',\n",
              "       'Iris-virginica', 'Iris-setosa', 'Iris-virginica', 'Iris-setosa',\n",
              "       'Iris-virginica', 'Iris-virginica', 'Iris-versicolor',\n",
              "       'Iris-virginica', 'Iris-versicolor', 'Iris-versicolor',\n",
              "       'Iris-versicolor', 'Iris-versicolor', 'Iris-setosa',\n",
              "       'Iris-versicolor', 'Iris-versicolor', 'Iris-setosa', 'Iris-setosa',\n",
              "       'Iris-virginica', 'Iris-versicolor', 'Iris-setosa', 'Iris-setosa',\n",
              "       'Iris-virginica', 'Iris-setosa', 'Iris-setosa', 'Iris-virginica',\n",
              "       'Iris-versicolor', 'Iris-setosa'], dtype=object)"
            ]
          },
          "metadata": {
            "tags": []
          },
          "execution_count": 66
        }
      ]
    },
    {
      "cell_type": "code",
      "metadata": {
        "colab": {
          "base_uri": "https://localhost:8080/"
        },
        "id": "nl_wb1vSCnh6",
        "outputId": "d0212c5d-676f-4d84-f93c-5c9f3c6f0435"
      },
      "source": [
        "y_test"
      ],
      "execution_count": 67,
      "outputs": [
        {
          "output_type": "execute_result",
          "data": {
            "text/plain": [
              "array(['Iris-virginica', 'Iris-versicolor', 'Iris-setosa',\n",
              "       'Iris-virginica', 'Iris-setosa', 'Iris-virginica', 'Iris-setosa',\n",
              "       'Iris-versicolor', 'Iris-versicolor', 'Iris-versicolor',\n",
              "       'Iris-virginica', 'Iris-versicolor', 'Iris-versicolor',\n",
              "       'Iris-versicolor', 'Iris-versicolor', 'Iris-setosa',\n",
              "       'Iris-versicolor', 'Iris-versicolor', 'Iris-setosa', 'Iris-setosa',\n",
              "       'Iris-virginica', 'Iris-versicolor', 'Iris-setosa', 'Iris-setosa',\n",
              "       'Iris-virginica', 'Iris-setosa', 'Iris-setosa', 'Iris-versicolor',\n",
              "       'Iris-versicolor', 'Iris-setosa'], dtype=object)"
            ]
          },
          "metadata": {
            "tags": []
          },
          "execution_count": 67
        }
      ]
    },
    {
      "cell_type": "code",
      "metadata": {
        "id": "NttJKDtiDKAP"
      },
      "source": [
        "from sklearn.metrics import  accuracy_score,confusion_matrix"
      ],
      "execution_count": 71,
      "outputs": []
    },
    {
      "cell_type": "code",
      "metadata": {
        "colab": {
          "base_uri": "https://localhost:8080/"
        },
        "id": "j7wh9ev8DVtR",
        "outputId": "63850b4a-c2b5-4a51-ce36-5a5398ceee29"
      },
      "source": [
        "accuracy_score(y_test,pred_y)"
      ],
      "execution_count": 69,
      "outputs": [
        {
          "output_type": "execute_result",
          "data": {
            "text/plain": [
              "0.9"
            ]
          },
          "metadata": {
            "tags": []
          },
          "execution_count": 69
        }
      ]
    },
    {
      "cell_type": "code",
      "metadata": {
        "colab": {
          "base_uri": "https://localhost:8080/"
        },
        "id": "dFa1ffo3Djsw",
        "outputId": "f6bdf084-d776-4a2d-e493-f41339c0bae2"
      },
      "source": [
        "confusion_matrix(y_test,pred_y)"
      ],
      "execution_count": 72,
      "outputs": [
        {
          "output_type": "execute_result",
          "data": {
            "text/plain": [
              "array([[11,  0,  0],\n",
              "       [ 0, 10,  3],\n",
              "       [ 0,  0,  6]])"
            ]
          },
          "metadata": {
            "tags": []
          },
          "execution_count": 72
        }
      ]
    },
    {
      "cell_type": "code",
      "metadata": {
        "id": "noQdiIaNDu6j"
      },
      "source": [
        ""
      ],
      "execution_count": null,
      "outputs": []
    }
  ]
}