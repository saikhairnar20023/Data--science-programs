{
  "nbformat": 4,
  "nbformat_minor": 0,
  "metadata": {
    "colab": {
      "name": "Program_5.ipynb",
      "provenance": [],
      "authorship_tag": "ABX9TyMe/0u8elnFKnlNljyD/uGg",
      "include_colab_link": true
    },
    "kernelspec": {
      "name": "python3",
      "display_name": "Python 3"
    },
    "language_info": {
      "name": "python"
    }
  },
  "cells": [
    {
      "cell_type": "markdown",
      "metadata": {
        "id": "view-in-github",
        "colab_type": "text"
      },
      "source": [
        "<a href=\"https://colab.research.google.com/github/saikhairnar20023/Data--science-programs/blob/main/Program_5.ipynb\" target=\"_parent\"><img src=\"https://colab.research.google.com/assets/colab-badge.svg\" alt=\"Open In Colab\"/></a>"
      ]
    },
    {
      "cell_type": "code",
      "metadata": {
        "id": "K_3gM8pT9iGL"
      },
      "source": [
        "import numpy as np"
      ],
      "execution_count": 5,
      "outputs": []
    },
    {
      "cell_type": "markdown",
      "metadata": {
        "id": "GjZpeG_mHq5u"
      },
      "source": [
        "#Data Viz"
      ]
    },
    {
      "cell_type": "code",
      "metadata": {
        "id": "PpjD9C2C-VBh"
      },
      "source": [
        "import matplotlib.pyplot as plt"
      ],
      "execution_count": 7,
      "outputs": []
    },
    {
      "cell_type": "markdown",
      "metadata": {
        "id": "Qin_uTGN_e1E"
      },
      "source": [
        "P1 (3,6)\n",
        "\n",
        "P2 (4,9)\n",
        "\n",
        "P3 (12,15)\n",
        "\n",
        "P4 (9,12)"
      ]
    },
    {
      "cell_type": "code",
      "metadata": {
        "id": "RRX5_ZfKAFsW"
      },
      "source": [
        "from matplotlib import pyplot as plt"
      ],
      "execution_count": 8,
      "outputs": []
    },
    {
      "cell_type": "markdown",
      "metadata": {
        "id": "7xMOevQjH_VU"
      },
      "source": [
        "###PLOT"
      ]
    },
    {
      "cell_type": "code",
      "metadata": {
        "id": "8PQGYQiL-YkJ"
      },
      "source": [
        "x =[3,4,12,9]"
      ],
      "execution_count": 11,
      "outputs": []
    },
    {
      "cell_type": "code",
      "metadata": {
        "id": "tz9sZRALAgEO"
      },
      "source": [
        "y =[6,9,15,12]"
      ],
      "execution_count": 17,
      "outputs": []
    },
    {
      "cell_type": "code",
      "metadata": {
        "colab": {
          "base_uri": "https://localhost:8080/",
          "height": 295
        },
        "id": "pettomQxAkbA",
        "outputId": "893d199c-f98a-49a5-c354-7893d8576fc3"
      },
      "source": [
        "plt.plot(x,y, marker = \"H\", markersize= 10, color = \"g\")\n",
        "plt.xlabel(\"X - Axis\")\n",
        "plt.ylabel(\"Y - Axis\")\n",
        "plt.title(\"Title\")\n",
        "plt.show()"
      ],
      "execution_count": 39,
      "outputs": [
        {
          "output_type": "display_data",
          "data": {
            "image/png": "[encoded data removed]",
            "text/plain": [
              "<Figure size 432x288 with 1 Axes>"
            ]
          },
          "metadata": {
            "tags": [],
            "needs_background": "light"
          }
        }
      ]
    },
    {
      "cell_type": "markdown",
      "metadata": {
        "id": "-s1bkzPEIDr8"
      },
      "source": [
        "###SCATTER"
      ]
    },
    {
      "cell_type": "code",
      "metadata": {
        "colab": {
          "base_uri": "https://localhost:8080/",
          "height": 265
        },
        "id": "yN6B9wosBA11",
        "outputId": "5b64a27c-2073-4d14-e2be-d662a004600d"
      },
      "source": [
        "plt.scatter(x,y, s = 10, marker =\"D\", color =\"m\")\n",
        "plt.show()"
      ],
      "execution_count": 44,
      "outputs": [
        {
          "output_type": "display_data",
          "data": {
            "image/png": "[encoded data removed]",
            "text/plain": [
              "<Figure size 432x288 with 1 Axes>"
            ]
          },
          "metadata": {
            "tags": [],
            "needs_background": "light"
          }
        }
      ]
    },
    {
      "cell_type": "markdown",
      "metadata": {
        "id": "BHS1gZP5JdZx"
      },
      "source": [
        "###BAR GRAPH"
      ]
    },
    {
      "cell_type": "code",
      "metadata": {
        "id": "ZbVgdlviB7kb"
      },
      "source": [
        "name =[\"A\",\"B\",\"C\",\"S\",\"F\",\"X\",\"Y\",\"Z\"]"
      ],
      "execution_count": 46,
      "outputs": []
    },
    {
      "cell_type": "code",
      "metadata": {
        "id": "ELealNT4CreA"
      },
      "source": [
        "salary = np.random.randint(20000,50000,8)"
      ],
      "execution_count": 47,
      "outputs": []
    },
    {
      "cell_type": "code",
      "metadata": {
        "colab": {
          "base_uri": "https://localhost:8080/"
        },
        "id": "-kQgkrAQLgR2",
        "outputId": "3b9f36f9-47f3-412f-98fe-f833877ad201"
      },
      "source": [
        "salary"
      ],
      "execution_count": 48,
      "outputs": [
        {
          "output_type": "execute_result",
          "data": {
            "text/plain": [
              "array([48896, 34095, 26921, 49530, 28178, 49469, 47103, 29570])"
            ]
          },
          "metadata": {
            "tags": []
          },
          "execution_count": 48
        }
      ]
    },
    {
      "cell_type": "code",
      "metadata": {
        "colab": {
          "base_uri": "https://localhost:8080/",
          "height": 295
        },
        "id": "kocxOtDKLjyZ",
        "outputId": "bfe6588a-7570-4f17-cf93-30d4ac5f54a7"
      },
      "source": [
        "plt.bar(name,salary)\n",
        "plt.xlabel(\"NAME\")\n",
        "plt.ylabel(\"SALARY\")\n",
        "plt.title(\"NAME VS SALARY\")\n",
        "plt.show()"
      ],
      "execution_count": 52,
      "outputs": [
        {
          "output_type": "display_data",
          "data": {
            "image/png": "[encoded data removed]",
            "text/plain": [
              "<Figure size 432x288 with 1 Axes>"
            ]
          },
          "metadata": {
            "tags": [],
            "needs_background": "light"
          }
        }
      ]
    },
    {
      "cell_type": "code",
      "metadata": {
        "id": "uJ2PB0cFMHnl"
      },
      "source": [
        ""
      ],
      "execution_count": null,
      "outputs": []
    }
  ]
}